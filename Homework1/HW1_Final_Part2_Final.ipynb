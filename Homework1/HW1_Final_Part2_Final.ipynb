{
 "cells": [
  {
   "cell_type": "code",
   "execution_count": 18,
   "id": "initial_id",
   "metadata": {
    "collapsed": true,
    "ExecuteTime": {
     "end_time": "2024-01-28T05:37:44.980310900Z",
     "start_time": "2024-01-28T05:37:44.832644400Z"
    }
   },
   "outputs": [],
   "source": [
    "from scipy.sparse import hstack, csr_matrix\n",
    "from tqdm import tqdm\n",
    "import numpy as np\n",
    "import pandas as pd\n",
    "import re\n",
    "\n",
    "from collections import Counter\n",
    "from collections import defaultdict\n",
    "from scipy import sparse\n",
    "from scipy.stats import uniform\n",
    "\n",
    "import matplotlib.pyplot as plt\n",
    "import seaborn as sns\n",
    "sns.set_style(\"whitegrid\")"
   ]
  },
  {
   "cell_type": "markdown",
   "source": [
    "# Part 1: Representing Text Data"
   ],
   "metadata": {
    "collapsed": false
   },
   "id": "f293206069c1f37b"
  },
  {
   "cell_type": "code",
   "execution_count": 19,
   "outputs": [],
   "source": [
    "df_train = pd.read_csv(\"data/train.csv\")\n",
    "df_dev = pd.read_csv(\"data/dev.csv\")\n",
    "df_test = pd.read_csv(\"data/test.csv\")"
   ],
   "metadata": {
    "collapsed": false,
    "ExecuteTime": {
     "end_time": "2024-01-28T05:37:45.898860800Z",
     "start_time": "2024-01-28T05:37:44.848726800Z"
    }
   },
   "id": "50f0203c436f94c2"
  },
  {
   "cell_type": "markdown",
   "source": [
    "## Task 1.1: Tokenization"
   ],
   "metadata": {
    "collapsed": false
   },
   "id": "a47f75884c1fd3af"
  },
  {
   "cell_type": "code",
   "execution_count": 20,
   "outputs": [],
   "source": [
    "stop_words = {\n",
    "    'ourselves', 'hers', 'between', 'yourself', 'but', 'again', 'there', 'about', \n",
    "    'once', 'during', 'out', 'very', 'having', 'with', 'they', 'own', 'an', 'be', \n",
    "    'some', 'for', 'do', 'its', 'yours', 'such', 'into', 'of', 'most', 'itself', \n",
    "    'other', 'off', 'is', 's', 'am', 'or', 'who', 'as', 'from', 'him', 'each', \n",
    "    'the', 'themselves', 'until', 'below', 'are', 'we', 'these', 'your', 'his', \n",
    "    'through', 'don', 'nor', 'me', 'were', 'her', 'more', 'himself', 'this', 'down', \n",
    "    'should', 'our', 'their', 'while', 'above', 'both', 'up', 'to', 'ours', 'had', \n",
    "    'she', 'all', 'no', 'when', 'at', 'any', 'before', 'them', 'same', 'and', \n",
    "    'been', 'have', 'in', 'will', 'on', 'does', 'yourselves', 'then', 'that', \n",
    "    'because', 'what', 'over', 'why', 'so', 'can', 'did', 'not', 'now', 'under', \n",
    "    'he', 'you', 'herself', 'has', 'just', 'where', 'too', 'only', 'myself', \n",
    "    'which', 'those', 'i', 'after', 'few', 'whom', 't', 'being', 'if', 'theirs', \n",
    "    'my', 'against', 'a', 'by', 'doing', 'it', 'how', 'further', 'was', 'here', 'than',\n",
    "    '<h>', '</h>'\n",
    "}\n",
    "\n",
    "stop_punctuations = '''!\"#$%&'()*+,-./:;<=>?@[\\]^_`{|}~—'''"
   ],
   "metadata": {
    "collapsed": false,
    "ExecuteTime": {
     "end_time": "2024-01-28T05:37:45.898860800Z",
     "start_time": "2024-01-28T05:37:44.907559900Z"
    }
   },
   "id": "a4e2e158991663cc"
  },
  {
   "cell_type": "code",
   "execution_count": 21,
   "outputs": [],
   "source": [
    "def tokenize(text):\n",
    "    # Split the text by whitespace and return the list of tokens\n",
    "    return text.split()\n",
    "\n",
    "def better_tokenize(input_str, punctuations=stop_punctuations, stopwords=stop_words):\n",
    "    # Remove line breaks and filter out <> enclosed text\n",
    "    cleaned_str = re.sub(r'\\n|\\<[^<>]*\\>', '', input_str)\n",
    "\n",
    "    # Remove punctuations\n",
    "    for punctuation in punctuations:\n",
    "        cleaned_str = cleaned_str.replace(punctuation, '')\n",
    "\n",
    "    # Convert to lowercase and split into words\n",
    "    words = cleaned_str.lower().split()\n",
    "\n",
    "    # Filter out stopwords\n",
    "    filtered_words = filter(lambda word: word not in stopwords, words)\n",
    "\n",
    "    return list(filtered_words)"
   ],
   "metadata": {
    "collapsed": false,
    "ExecuteTime": {
     "end_time": "2024-01-28T05:37:45.901879700Z",
     "start_time": "2024-01-28T05:37:44.914073400Z"
    }
   },
   "id": "a6e304a64dc6e150"
  },
  {
   "cell_type": "code",
   "execution_count": 22,
   "outputs": [
    {
     "name": "stdout",
     "output_type": "stream",
     "text": [
      "['sample', 'text', 'goes']\n"
     ]
    }
   ],
   "source": [
    "input_str = \"Your sample text goes here.\"\n",
    "tokens = better_tokenize(input_str)\n",
    "print(tokens)"
   ],
   "metadata": {
    "collapsed": false,
    "ExecuteTime": {
     "end_time": "2024-01-28T05:37:45.901879700Z",
     "start_time": "2024-01-28T05:37:44.920146800Z"
    }
   },
   "id": "de239779172d4c41"
  },
  {
   "cell_type": "markdown",
   "source": [
    "## Task 1.2: Building the Term-Document Matrix"
   ],
   "metadata": {
    "collapsed": false
   },
   "id": "82595ee382bf6f61"
  },
  {
   "cell_type": "code",
   "execution_count": 23,
   "outputs": [],
   "source": [
    "def build_term_freq_dict(dataframe, text_col, min_freq=2):\n",
    "    term_counter = Counter()\n",
    "\n",
    "    # Iterate through each document and update term frequencies\n",
    "    for document in dataframe[text_col]:\n",
    "        terms = better_tokenize(document)\n",
    "        term_counter.update(terms)\n",
    "\n",
    "    # Retain terms that meet the minimum frequency threshold\n",
    "    filtered_terms = {term: freq for term, freq in term_counter.items() if freq >= min_freq}\n",
    "\n",
    "    return filtered_terms\n",
    "\n",
    "# Example usage\n",
    "term_dictionary = build_term_freq_dict(df_train, 'text', 10)"
   ],
   "metadata": {
    "collapsed": false,
    "ExecuteTime": {
     "end_time": "2024-01-28T05:37:45.954817900Z",
     "start_time": "2024-01-28T05:37:44.929037200Z"
    }
   },
   "id": "919b342192769e6c"
  },
  {
   "cell_type": "code",
   "execution_count": 24,
   "outputs": [],
   "source": [
    "def createCompressedSparseRowMatrix(documents, vocab={}, frequencyFilter=term_dictionary):\n",
    "    rowStart = [0]\n",
    "    colIndices = []\n",
    "    values = []\n",
    "\n",
    "    print(\"Constructing compressed sparse row (CSR) matrix...\")\n",
    "    for document in tqdm(documents):\n",
    "        for word in document:\n",
    "            if word in frequencyFilter:  # Exclude terms with low frequency\n",
    "                wordIndex = vocab[word] if word in vocab else len(vocab)\n",
    "                vocab[word] = wordIndex\n",
    "                colIndices.append(wordIndex)\n",
    "                values.append(1)\n",
    "        rowStart.append(len(colIndices))\n",
    "\n",
    "    csrMatrix = sparse.csr_matrix((values, colIndices, rowStart), dtype=int)\n",
    "    return csrMatrix, vocab"
   ],
   "metadata": {
    "collapsed": false,
    "ExecuteTime": {
     "end_time": "2024-01-28T05:37:45.955769200Z",
     "start_time": "2024-01-28T05:37:45.091933800Z"
    }
   },
   "id": "90240e81cd23ec27"
  },
  {
   "cell_type": "code",
   "execution_count": 25,
   "outputs": [
    {
     "name": "stdout",
     "output_type": "stream",
     "text": [
      "Creating document list for training...\n"
     ]
    },
    {
     "name": "stderr",
     "output_type": "stream",
     "text": [
      "100%|██████████| 7328/7328 [00:00<00:00, 17078.07it/s]\n"
     ]
    },
    {
     "name": "stdout",
     "output_type": "stream",
     "text": [
      "Constructing compressed sparse row (CSR) matrix...\n"
     ]
    },
    {
     "name": "stderr",
     "output_type": "stream",
     "text": [
      "100%|██████████| 7328/7328 [00:00<00:00, 157099.35it/s]\n"
     ]
    }
   ],
   "source": [
    "# Prepare the document list\n",
    "document_list = []\n",
    "print(\"Creating document list for training...\")\n",
    "for idx, record in tqdm(df_train.iterrows(), total=df_train.shape[0]):\n",
    "    document_list.append(better_tokenize(record[\"text\"]))\n",
    "\n",
    "# Generate the CSR matrix\n",
    "training_matrix, training_vocab = createCompressedSparseRowMatrix(document_list)\n",
    "\n",
    "# Add a bias column to the matrix\n",
    "bias_column = np.ones((training_matrix.shape[0], 1))\n",
    "training_matrix_with_bias = sparse.hstack([training_matrix, bias_column]).tocsr()"
   ],
   "metadata": {
    "collapsed": false,
    "ExecuteTime": {
     "end_time": "2024-01-28T05:37:45.956767300Z",
     "start_time": "2024-01-28T05:37:45.096944400Z"
    }
   },
   "id": "6caf5ae665f2d238"
  },
  {
   "cell_type": "markdown",
   "source": [
    "# Part 2: Logistic Regression in numpy"
   ],
   "metadata": {
    "collapsed": false
   },
   "id": "70672e4c20b18f97"
  },
  {
   "cell_type": "code",
   "execution_count": 26,
   "outputs": [],
   "source": [
    "def sigmoid(X):\n",
    "    # Using np.exp for element-wise exponential\n",
    "    return np.divide(1, np.add(1, np.exp(np.negative(X))))\n",
    "\n",
    "def log_likelihood(X, y, beta):\n",
    "    sum = 0\n",
    "    for i in range(X.shape[0]):  # 遍历样本\n",
    "        x_i = X[i].toarray().flatten()\n",
    "        sum += y[i] * np.dot(beta, x_i) - np.log10(1 + np.exp(np.dot(beta, x_i)))\n",
    "    return sum\n",
    "\n",
    "def compute_gradient(x, y, beta):\n",
    "    # Using np.subtract and np.outer for vectorized operations\n",
    "    prediction_error = np.subtract(sigmoid(np.dot(beta, x)), y)\n",
    "    gradient = np.multiply(prediction_error, x)\n",
    "    return gradient"
   ],
   "metadata": {
    "collapsed": false,
    "ExecuteTime": {
     "end_time": "2024-01-28T05:37:45.956767300Z",
     "start_time": "2024-01-28T05:37:45.612022100Z"
    }
   },
   "id": "f9bed74041c07ba1"
  },
  {
   "cell_type": "code",
   "execution_count": 27,
   "outputs": [],
   "source": [
    "def logistic_regression(X, y, learning_rate=5e-5, num_step=1000, is_plot=False):\n",
    "    # Initialize variables\n",
    "    vocab_size = X.shape[1]  # Size of the vocabulary\n",
    "    beta_params = np.zeros(vocab_size)  # Initializing beta parameters\n",
    "    prev_log_likelihood = log_likelihood(X, y, beta_params)  # Initial log-likelihood\n",
    "\n",
    "    # Initialize plot-related lists if plotting is enabled\n",
    "    steps, log_likelihoods = ([], []) if is_plot else (None, None)\n",
    "\n",
    "    print(\"Running Logistic Regression...\")\n",
    "    for step in tqdm(range(num_step)):\n",
    "        # Update beta using a gradient step\n",
    "        current_index = step % vocab_size\n",
    "        X_sample = X[current_index].toarray().ravel()\n",
    "        y_sample = y[current_index]\n",
    "        gradient = compute_gradient(X_sample, y_sample, beta_params)\n",
    "        beta_params -= learning_rate * gradient\n",
    "\n",
    "        # Record log-likelihood and step count at every 100th step\n",
    "        if is_plot and step % 100 == 0:\n",
    "            steps.append(step)\n",
    "            log_likelihoods.append(log_likelihood(X, y, beta_params))\n",
    "\n",
    "    # Return results based on whether plotting is enabled\n",
    "    return (beta_params, steps, log_likelihoods) if is_plot else beta_params"
   ],
   "metadata": {
    "collapsed": false,
    "ExecuteTime": {
     "end_time": "2024-01-28T05:37:45.956767300Z",
     "start_time": "2024-01-28T05:37:45.624395500Z"
    }
   },
   "id": "807cbeb634e3abb3"
  },
  {
   "cell_type": "code",
   "execution_count": 28,
   "outputs": [],
   "source": [
    "def predict(text, model_coefficients, vocabulary=training_vocab):\n",
    "    feature_vector = np.zeros(len(vocabulary) + 1)\n",
    "    \n",
    "    word_counts = Counter(better_tokenize(text))\n",
    "    for word, count in word_counts.items():\n",
    "        if word in vocabulary:\n",
    "            feature_vector[vocabulary[word]] = count\n",
    "    feature_vector[-1] = 1  # Add bias term\n",
    "\n",
    "    prediction = sigmoid(np.dot(model_coefficients, feature_vector))\n",
    "    return int(prediction >= 0.152)"
   ],
   "metadata": {
    "collapsed": false,
    "ExecuteTime": {
     "end_time": "2024-01-28T05:37:45.985997500Z",
     "start_time": "2024-01-28T05:37:45.631430100Z"
    }
   },
   "id": "86ca524192dc704b"
  },
  {
   "cell_type": "markdown",
   "source": [
    "## Task 2.1: Plot log-likelihood"
   ],
   "metadata": {
    "collapsed": false
   },
   "id": "5857c08699b9eb52"
  },
  {
   "cell_type": "code",
   "execution_count": 29,
   "outputs": [
    {
     "name": "stdout",
     "output_type": "stream",
     "text": [
      "Running Logistic Regression...\n"
     ]
    },
    {
     "name": "stderr",
     "output_type": "stream",
     "text": [
      "100%|██████████| 10000/10000 [00:45<00:00, 217.60it/s]\n"
     ]
    }
   ],
   "source": [
    "# Mapping labels\n",
    "label_map = {0: 0, 1: 1}\n",
    "train_labels = np.array([label_map[label] for label in df_train['label']])\n",
    "\n",
    "# Perform logistic regression\n",
    "regression_beta, iteration_steps, log_likelihoods = logistic_regression(\n",
    "    X=training_matrix_with_bias,\n",
    "    y=train_labels,\n",
    "    num_step=10000,\n",
    "    is_plot=True\n",
    ")\n"
   ],
   "metadata": {
    "collapsed": false,
    "ExecuteTime": {
     "end_time": "2024-01-28T05:38:32.143321200Z",
     "start_time": "2024-01-28T05:37:45.640244800Z"
    }
   },
   "id": "e3457b9f7b996be7"
  },
  {
   "cell_type": "code",
   "execution_count": 30,
   "outputs": [
    {
     "data": {
      "text/plain": "<Figure size 1000x600 with 1 Axes>",
      "image/png": "[encoded data removed]"
     },
     "metadata": {},
     "output_type": "display_data"
    }
   ],
   "source": [
    "# Plotting the relationship between steps and log-likelihood\n",
    "fig, plot_axis = plt.subplots(figsize=(10, 6))\n",
    "sns.lineplot(x=iteration_steps, y=log_likelihoods, ax=plot_axis)\n",
    "plot_axis.set_xlabel(\"Steps\")\n",
    "plot_axis.set_ylabel(\"Log-likelihood (per 100 steps)\")\n",
    "plot_axis.set_title(\"Loss v.s. Log-likelihood for Full Train Data\")\n",
    "plt.show()"
   ],
   "metadata": {
    "collapsed": false,
    "ExecuteTime": {
     "end_time": "2024-01-28T05:38:32.317334400Z",
     "start_time": "2024-01-28T05:38:32.119761200Z"
    }
   },
   "id": "7fedcd6273d16cc5"
  },
  {
   "cell_type": "markdown",
   "source": [
    "## Task 2.2: Make prediction on validation dataset"
   ],
   "metadata": {
    "collapsed": false
   },
   "id": "c8d06439b6957bf2"
  },
  {
   "cell_type": "code",
   "execution_count": 31,
   "outputs": [
    {
     "name": "stdout",
     "output_type": "stream",
     "text": [
      "Running Logistic Regression...\n"
     ]
    },
    {
     "name": "stderr",
     "output_type": "stream",
     "text": [
      "100%|██████████| 500000/500000 [00:35<00:00, 13894.92it/s]\n"
     ]
    }
   ],
   "source": [
    "# train the beta\n",
    "beta = logistic_regression(X = training_matrix_with_bias,\n",
    "                           y = train_labels, \n",
    "                           learning_rate = 5e-5, \n",
    "                           num_step = 500000)"
   ],
   "metadata": {
    "collapsed": false,
    "ExecuteTime": {
     "end_time": "2024-01-28T05:39:08.752235300Z",
     "start_time": "2024-01-28T05:38:32.316334600Z"
    }
   },
   "id": "5bf98f138be537d5"
  },
  {
   "cell_type": "code",
   "execution_count": 32,
   "outputs": [
    {
     "name": "stdout",
     "output_type": "stream",
     "text": [
      "Starting prediction on validation dataset...\n"
     ]
    },
    {
     "name": "stderr",
     "output_type": "stream",
     "text": [
      "100%|██████████| 1047/1047 [00:00<00:00, 24028.04it/s]\n"
     ]
    }
   ],
   "source": [
    "# make prediction\n",
    "y_test = [label_map[p] for p in df_dev[\"label\"]]\n",
    "y_pred = []\n",
    "print(\"Starting prediction on validation dataset...\")\n",
    "for i in tqdm(range(len(df_dev))):\n",
    "    y_pred.append(predict(df_dev[\"text\"][i], beta))"
   ],
   "metadata": {
    "collapsed": false,
    "ExecuteTime": {
     "end_time": "2024-01-28T05:39:08.915884Z",
     "start_time": "2024-01-28T05:39:08.755276300Z"
    }
   },
   "id": "a31bf111bd27fa1f"
  },
  {
   "cell_type": "code",
   "execution_count": 33,
   "outputs": [
    {
     "data": {
      "text/plain": "0.3626373626373627"
     },
     "execution_count": 33,
     "metadata": {},
     "output_type": "execute_result"
    }
   ],
   "source": [
    "from sklearn.metrics import f1_score\n",
    "f1_score(y_test, y_pred)"
   ],
   "metadata": {
    "collapsed": false,
    "ExecuteTime": {
     "end_time": "2024-01-28T05:39:08.916884300Z",
     "start_time": "2024-01-28T05:39:08.808225700Z"
    }
   },
   "id": "47306a3f28787542"
  },
  {
   "cell_type": "markdown",
   "source": [
    "## Task 2.3: Make prediction on test dataset"
   ],
   "metadata": {
    "collapsed": false
   },
   "id": "1cd4c6d945541412"
  },
  {
   "cell_type": "code",
   "execution_count": 34,
   "outputs": [
    {
     "name": "stdout",
     "output_type": "stream",
     "text": [
      "Predicting labels for test dataset...\n"
     ]
    },
    {
     "name": "stderr",
     "output_type": "stream",
     "text": [
      "100%|██████████| 2094/2094 [00:00<00:00, 11135.94it/s]\n"
     ]
    }
   ],
   "source": [
    "# Reverse label dictionary\n",
    "label_reverse_map = {0: 0, 1: 1}\n",
    "\n",
    "# Function to predict labels\n",
    "def make_predictions(data):\n",
    "    predictions = []\n",
    "    print(\"Predicting labels for test dataset...\")\n",
    "    for index, row in tqdm(data.iterrows(), total=len(data)):\n",
    "        text_content = str(row['text'])\n",
    "        predictions.append(predict(text_content, beta))\n",
    "    return predictions\n",
    "\n",
    "# Generate predictions\n",
    "predicted_labels = make_predictions(df_test)\n",
    "\n",
    "# Create result dataframe and save to CSV\n",
    "result_df = pd.DataFrame({\n",
    "    'par_id': df_test['par_id'],\n",
    "    'label': [label_reverse_map[label] for label in predicted_labels]\n",
    "})\n",
    "result_df.to_csv(\"part2_result.csv\", index=False)"
   ],
   "metadata": {
    "collapsed": false,
    "ExecuteTime": {
     "end_time": "2024-01-28T05:39:09.155045200Z",
     "start_time": "2024-01-28T05:39:08.820363100Z"
    }
   },
   "id": "7f2c8730ca908573"
  },
  {
   "cell_type": "code",
   "execution_count": 34,
   "outputs": [],
   "source": [],
   "metadata": {
    "collapsed": false,
    "ExecuteTime": {
     "end_time": "2024-01-28T05:39:09.155045200Z",
     "start_time": "2024-01-28T05:39:09.032784500Z"
    }
   },
   "id": "169743168f6904ab"
  }
 ],
 "metadata": {
  "kernelspec": {
   "display_name": "Python 3",
   "language": "python",
   "name": "python3"
  },
  "language_info": {
   "codemirror_mode": {
    "name": "ipython",
    "version": 2
   },
   "file_extension": ".py",
   "mimetype": "text/x-python",
   "name": "python",
   "nbconvert_exporter": "python",
   "pygments_lexer": "ipython2",
   "version": "2.7.6"
  }
 },
 "nbformat": 4,
 "nbformat_minor": 5
}
