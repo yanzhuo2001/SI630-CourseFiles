{
 "cells": [
  {
   "cell_type": "markdown",
   "metadata": {},
   "source": [
    "# Homework 2 Parts 1-3: Word2Vec\n",
    "\n",
    "This homework will have you implementing word2vec using PyTorch and let you familiarize yourself with building more complex neural networks and the larger PyTorch development infrastructure.\n",
    "\n",
    "Broadly, this homework consists of a few major parts:\n",
    "1. Implement a `Corpus` class that will load the dataset and convert it to a sequence of token ids\n",
    "2. Implement negative sampling to select tokens to be used as negative examples of words in the context\n",
    "3. Create your dataset of positive and negative examples per context and load it into PyTorch's `DataLoader` to use for sampling\n",
    "4. Implement a `Word2Vec` class that is a PyTorch neural network\n",
    "5. Implement a training loop that samples a _batch_ of target words and their respective positive/negative context words\n",
    "6. Implement rare word removal and frequent word subsampling\n",
    "7. Run your model on the full dataset for at least one epoch\n",
    "8. Do the exploratory parts of the homework\n",
    "9. Save vectors and word-indexing data for later use in training a classifier\n",
    "\n",
    "After Step 5, you should be able to run your word2vec implementation on a small dataset and verify that it's learning correctly. Once you can verify everything is working, proceed with steps 6 and beyond. **Please note that this list is a general sketch and the homework PDF has the full list/description of to-dos and all your deliverables.**\n",
    "\n",
    "### Estimated performance times on medium dataset\n",
    "\n",
    "We designed this homework to be run on a laptop-grade CPU, so no GPU is required. If your primary computing device is a tablet or similar device, this homework can also be _developed_ on that device but then run on a more powerful machine in the Great Lakes cluster (for free). Such cases are the exception though. Following, we report on the estimated times from our reference implementation on the medium dataset for longer-running or data-intensive pieces of the homework. Your timing may vary based on implementation design; major differences in time (e.g., 10x longer) usually point to a performance bug.\n",
    "\n",
    "* Reading and tokenizing: ~5 seconds\n",
    "* Subsampling and converting to token ids: ~15 seconds\n",
    "* Generating the list of training examples: ~2 minutes (~15 minutes before the random number generator fix)\n",
    "* Training one epoch: ~12 minutes"
   ]
  },
  {
   "cell_type": "code",
   "execution_count": 1,
   "metadata": {
    "ExecuteTime": {
     "end_time": "2024-03-04T04:17:29.599212Z",
     "start_time": "2024-03-04T04:17:24.302591Z"
    }
   },
   "outputs": [
    {
     "name": "stderr",
     "output_type": "stream",
     "text": [
      "[nltk_data] Downloading package stopwords to\n",
      "[nltk_data]     C:\\Users\\16979\\AppData\\Roaming\\nltk_data...\n",
      "[nltk_data]   Package stopwords is already up-to-date!\n"
     ]
    },
    {
     "data": {
      "text/plain": "<torch._C.Generator at 0x1417c844a10>"
     },
     "execution_count": 1,
     "metadata": {},
     "output_type": "execute_result"
    }
   ],
   "source": [
    "import numpy as np\n",
    "import torch\n",
    "from torch.utils.data import Dataset, DataLoader\n",
    "\n",
    "import torch\n",
    "import torch.nn as nn\n",
    "import torch.nn.functional as F\n",
    "from torch.nn import init\n",
    "from tqdm.auto import tqdm, trange\n",
    "from collections import Counter\n",
    "import random\n",
    "from torch import optim\n",
    "import gzip\n",
    "import time\n",
    "import wandb\n",
    "import json\n",
    "import matplotlib.pyplot as plt\n",
    "\n",
    "# Helpful for computing cosine similarity--Note that this is NOT a similarity!\n",
    "from scipy.spatial.distance import cosine\n",
    "\n",
    "# Handy command-line argument parsing\n",
    "import argparse\n",
    "import nltk\n",
    "nltk.download('stopwords')\n",
    "from nltk.corpus import stopwords\n",
    "stop_words = set(stopwords.words('english'))\n",
    "\n",
    "# Sort of smart tokenization\n",
    "from nltk.tokenize import RegexpTokenizer\n",
    "\n",
    "# We'll use this to save our models\n",
    "from gensim.models import KeyedVectors\n",
    "from torch.utils.tensorboard import SummaryWriter\n",
    "import os\n",
    "import pickle\n",
    "\n",
    "#\n",
    "# IMPORTANT NOTE: Always set your random seeds when dealing with stochastic\n",
    "# algorithms as it lets your bugs be reproducible and (more importantly) it lets\n",
    "# your results be reproducible by others.\n",
    "#\n",
    "random.seed(1234)\n",
    "np.random.seed(1234)\n",
    "torch.manual_seed(1234)"
   ]
  },
  {
   "cell_type": "markdown",
   "metadata": {},
   "source": [
    "# Create an efficient random number generator (do this part this later)\n",
    "\n",
    "Computers have to work to generate random numbers. However, the effort for getting those random numbers varies by how many you ask for. In practice, it's _much_ more efficient to generate many random numbers at once, rather than one at a time. \n",
    "\n",
    "\n",
    "In generating the training data for word2vec, you'll be generating a lot of random numbers. We've added a helpful class that you can use to eventually speed things up. You should use an instance of this `RandomNumberGenerator` class to generate the numbers you need (rather than using `np.random`). This class should work as a quick drop-in in its current implementation. **You should change the implementation of this class _only_ after getting the rest of your code debugged**. Once you get things working, update the code in this class so that it will create large buffers of random numbers and then when asked for a new number, read the next number from the buffer instead of calling `random` or `randint`. Essentially, this class will pre-allocate many random numbers ahead of time and then return them in order to avoid the overhead of generating them one at a time. You could see up to an ~80% performance improvement in your negatve sampling code generation as a result of this!"
   ]
  },
  {
   "cell_type": "code",
   "execution_count": 2,
   "metadata": {
    "ExecuteTime": {
     "end_time": "2024-03-04T04:17:29.604081Z",
     "start_time": "2024-03-04T04:17:29.599212Z"
    }
   },
   "outputs": [],
   "source": [
    "class RandomNumberGenerator:\n",
    "    ''' \n",
    "    A wrapper class for a random number generator that will (eventually) hold buffers of pre-generated random numbers for\n",
    "    faster access. For now, it just calls np.random.randint and np.random.random to generate these numbers \n",
    "    at the time they are needed.\n",
    "    '''\n",
    "\n",
    "    def __init__(self, buffer_size, seed=12345):\n",
    "        '''\n",
    "        Initializes the random number generator with a seed and a buffer size of random numbers to use\n",
    "\n",
    "        Args:\n",
    "            buffer_size: The number of random numbers to pre-generate. You will eventually want \n",
    "                         this to be a large-enough number than you're not frequently regenerating the buffer\n",
    "            seed: The seed for the random number generator\n",
    "        '''\n",
    "        # TODO (later): create a random number generator using numpy and set its seed    \n",
    "        # TODO (later): pre-generate a buffer of random floats to use for random()\n",
    "        self.buffer_size = buffer_size\n",
    "        self.seed = seed\n",
    "        self.rng = np.random.default_rng(seed)  # Create a random number generator with the seed\n",
    "        self.float_buffer = self.rng.random(buffer_size)  # Pre-generate a buffer of random floats\n",
    "        self.int_buffer = None\n",
    "        self.max_val = -1\n",
    "        self.float_buffer_index = 0  # Keep track of the current position in the float buffer\n",
    "        self.int_buffer_index = 0  # Keep track of the current position in the int buffer\n",
    "\n",
    "\n",
    "    def random(self):\n",
    "        '''\n",
    "        Returns a random float value between 0 and 1\n",
    "        '''\n",
    "        # TODO (later): get a random number from the float buffer, rather than calling np.random.random\n",
    "        # NOTE: If you reach the end of the buffer, you should refill it with new random float numbers\n",
    "        if self.float_buffer_index >= self.buffer_size:\n",
    "            # Refill the float buffer if we've used all the values\n",
    "            self.float_buffer = self.rng.random(self.buffer_size)\n",
    "            self.float_buffer_index = 0\n",
    "        value = self.float_buffer[self.float_buffer_index]\n",
    "        self.float_buffer_index += 1\n",
    "        return value\n",
    "\n",
    "    def set_max_val(self, max_val):\n",
    "        '''\n",
    "        Sets the maximum integer value for randint and creates a buffer of random integers\n",
    "        '''\n",
    "        # NOTE: This default implemenation just sets the max_val and does not create a buffer of random integers\n",
    "        # TODO (later): Implement a buffer of random integers (for now, we'll just use np.random.randint)\n",
    "        self.max_val = max_val\n",
    "        self.int_buffer = self.rng.integers(0, max_val + 1, self.buffer_size)\n",
    "        self.int_buffer_index = 0\n",
    "\n",
    "    def randint(self):\n",
    "        '''\n",
    "        Returns a random int value between 0 and self.max_val (inclusive)\n",
    "        '''        \n",
    "        # TODO (later): get a random number from the int buffer, rather than calling np.random.randint\n",
    "        # NOTE: If you reach the end of the buffer, you should refill it with new random ints\n",
    "        if self.max_val == -1:\n",
    "            raise ValueError(\"Need to call set_max_val before calling randint\")\n",
    "        \n",
    "        if self.int_buffer_index >= self.buffer_size:\n",
    "            # Refill the int buffer if we've used all the values\n",
    "            self.int_buffer = self.rng.integers(0, self.max_val + 1, self.buffer_size)\n",
    "            self.int_buffer_index = 0\n",
    "        value = self.int_buffer[self.int_buffer_index]\n",
    "        self.int_buffer_index += 1\n",
    "        return value"
   ]
  },
  {
   "cell_type": "markdown",
   "metadata": {},
   "source": [
    "## Create a class to hold the data\n",
    "\n",
    "Before we get to training word2vec, we'll need to process the corpus into some representation. The `Corpus` class will handle much of the functionality for corpus reading and keeping track of which word types belong to which ids. The `Corpus` class will also handle the crucial functionality of generating negative samples for training (i.e., randomly-sampled words that were not in the target word's context).\n",
    "\n",
    "Some parts of this class can be completed after you've gotten word2vec up and running, so see the notes below and the details in the homework PDF."
   ]
  },
  {
   "cell_type": "code",
   "execution_count": 3,
   "metadata": {
    "ExecuteTime": {
     "end_time": "2024-03-04T04:17:29.612158Z",
     "start_time": "2024-03-04T04:17:29.605084Z"
    }
   },
   "outputs": [],
   "source": [
    "class Corpus:\n",
    "    \n",
    "    def __init__(self, rng: RandomNumberGenerator):\n",
    "\n",
    "        self.tokenizer = RegexpTokenizer(r'\\w+')\n",
    "        self.rng = rng\n",
    "\n",
    "        # These state variables become populated with function calls\n",
    "        #\n",
    "        # 1. load_data()\n",
    "        # 2. generate_negative_sampling_table()\n",
    "        #\n",
    "        # See those functions for how the various values get filled in\n",
    "\n",
    "        self.word_to_index = {} # word to unique-id\n",
    "        self.index_to_word = {} # unique-id to word\n",
    "\n",
    "        # How many times each word occurs in our data after filtering\n",
    "        self.word_counts = Counter()\n",
    "\n",
    "        # A utility data structure that lets us quickly sample \"negative\"\n",
    "        # instances in a context. This table contains unique-ids\n",
    "        self.negative_sampling_table = []\n",
    "        \n",
    "        # The dataset we'll use for training, as a sequence of unqiue word\n",
    "        # ids. This is the sequence across all documents after tokens have been\n",
    "        # randomly subsampled by the word2vec preprocessing step\n",
    "        self.full_token_sequence_as_ids = None\n",
    "        \n",
    "        self.word_probability = {}\n",
    "        \n",
    "    def tokenize(self, text):\n",
    "        '''\n",
    "        Tokenize the document and returns a list of the tokens\n",
    "        '''\n",
    "        return self.tokenizer.tokenize(text)        \n",
    "\n",
    "    def load_data(self, file_name, min_token_freq):\n",
    "        '''\n",
    "        Reads the data from the specified file as long long sequence of text\n",
    "        (ignoring line breaks) and populates the data structures of this\n",
    "        word2vec object.\n",
    "        '''\n",
    "\n",
    "        # Step 1: Read in the file and create a long sequence of tokens for\n",
    "        # all tokens in the file\n",
    "        all_tokens = []\n",
    "        print('Reading data and tokenizing')\n",
    "        with open(file_name, \"r\", encoding=\"utf-8\") as file:\n",
    "            all_tokens = self.tokenize(file.read().lower())\n",
    "    \n",
    "        # Step 2: Count how many tokens we have of each type\n",
    "        print('Counting token frequencies')\n",
    "        for token in all_tokens:\n",
    "            self.word_counts[token] += 1\n",
    "        \n",
    "        # Step 3: Replace all tokens below the specified frequency with an <UNK>\n",
    "        # token. \n",
    "        #\n",
    "        # NOTE: You can do this step later if needed\n",
    "        print(\"Performing minimum thresholding\")\n",
    "        all_tokens = ['<UNK>' if self.word_counts[token] < min_token_freq else token for token in all_tokens]\n",
    "\n",
    "        # Step 4: update self.word_counts to be the number of times each word\n",
    "        # occurs (including <UNK>)\n",
    "        print('Updating token frequencies after filtering <UNK>')\n",
    "        self.word_counts = Counter(all_tokens)\n",
    "        \n",
    "        # Step 5: Create the mappings from word to unique integer ID and the\n",
    "        # reverse mapping.\n",
    "        print(\"Create words and id mapping\")\n",
    "        self.word_to_index = {word: i for i, word in enumerate(self.word_counts.keys())}\n",
    "        self.index_to_word = {i: word for word, i in self.word_to_index.items()}\n",
    "        \n",
    "        # Step 6: Compute the probability of keeping any particular *token* of a\n",
    "        # word in the training sequence, which we'll use to subsample. This subsampling\n",
    "        # avoids having the training data be filled with many overly common words\n",
    "        # as positive examples in the context\n",
    "        print(\"Compute probability of subsampling\")\n",
    "        total_word_counts = sum(self.word_counts.values())\n",
    "        for word, count in self.word_counts.items():\n",
    "            freq = count / total_word_counts\n",
    "            self.word_probability[word] = (np.sqrt(freq / 0.001) + 1) * (0.001 / freq)\n",
    "                        \n",
    "        # Step 7: process the list of tokens (after min-freq filtering) to fill\n",
    "        # a new list self.full_token_sequence_as_ids where \n",
    "        #\n",
    "        # (1) we probabilistically choose whether to keep each *token* based on the\n",
    "        # subsampling probabilities (note that this does not mean we drop\n",
    "        # an entire word!) and \n",
    "        #\n",
    "        # (2) all tokens are convered to their unique ids for faster training.\n",
    "        #\n",
    "        # NOTE: You can skip the subsampling part and just do step 2 to get\n",
    "        # your model up and running.\n",
    "            \n",
    "        # NOTE 2: You will perform token-based subsampling based on the probabilities in\n",
    "        # word_to_sample_prob. When subsampling, you are modifying the sequence itself \n",
    "        # (like deleting an item in a list). This action effectively makes the context\n",
    "        # window  larger for some target words by removing context words that are common\n",
    "        # from a particular context before the training occurs (which then would now include\n",
    "        # other words that were previously just outside the window).\n",
    "        print(\"Create all token ID list\")\n",
    "        token_sequence_as_ids = []\n",
    "        for token in all_tokens:\n",
    "            if random.random() < self.word_probability.get(token, 1):  # Ensure default probability is 1 for missing tokens\n",
    "                token_sequence_as_ids.append(self.word_to_index[token])\n",
    "        \n",
    "        self.full_token_sequence_as_ids = np.array(token_sequence_as_ids, dtype=np.int32)\n",
    "\n",
    "        print('Loaded all data from %s; saw %d tokens (%d unique)' % (file_name, len(self.full_token_sequence_as_ids), len(self.word_to_index)))\n",
    "        \n",
    "    def generate_negative_sampling_table(self, exp_power=0.75, table_size=1e6):\n",
    "        '''\n",
    "        Generates a big list data structure that we can quickly randomly index into\n",
    "        in order to select a negative training example (i.e., a word that was\n",
    "        *not* present in the context). \n",
    "        '''       \n",
    "        \n",
    "        # Step 1: Figure out how many instances of each word need to go into the\n",
    "        # negative sampling table. \n",
    "        #\n",
    "        # HINT: np.power and np.fill might be useful here        \n",
    "        print(\"Generating negative sampling table\")\n",
    "        word_weights = np.array([count**exp_power for count in self.word_counts.values()])\n",
    "        total_weight = sum(word_weights)\n",
    "\n",
    "        # Step 2: Create the table to the correct size. You'll want this to be a\n",
    "        # numpy array of type int\n",
    "        sampling_probabilities = word_weights / total_weight\n",
    "\n",
    "        # Step 3: Fill the table so that each word has a number of IDs\n",
    "        # proportionate to its probability of being sampled.\n",
    "        #\n",
    "        # Example: if we have 3 words \"a\" \"b\" and \"c\" with probabilites 0.5,\n",
    "        # 0.33, 0.16 and a table size of 6 then our table would look like this\n",
    "        # (before converting the words to IDs):\n",
    "        #\n",
    "        # [ \"a\", \"a\", \"a\", \"b\", \"b\", \"c\" ]\n",
    "        table_size = int(table_size)\n",
    "        self.negative_sampling_table = np.random.choice(list(self.word_to_index.values()), size=table_size, p=sampling_probabilities)\n",
    "\n",
    "        # 此时，设置 RandomNumberGenerator 的最大值\n",
    "        max_val = len(self.negative_sampling_table) - 1  # 因为索引是从0开始的\n",
    "        self.rng.set_max_val(max_val)\n",
    "        \n",
    "    def generate_negative_samples(self, cur_context_word_id, num_samples):\n",
    "        '''\n",
    "        Randomly samples the specified number of negative samples from the lookup\n",
    "        table and returns this list of IDs as a numpy array. As a performance\n",
    "        improvement, avoid sampling a negative example that has the same ID as\n",
    "        the current positive context word.\n",
    "        '''\n",
    "\n",
    "        # Create a list and sample from the negative_sampling_table to\n",
    "        # grow the list to num_samples, avoiding adding a negative example that\n",
    "        # has the same ID as the current context_word\n",
    "        samples = []\n",
    "        while len(samples) < num_samples:\n",
    "            sampled_id = self.rng.randint() % len(self.negative_sampling_table)\n",
    "            if self.negative_sampling_table[sampled_id] != cur_context_word_id:\n",
    "                samples.append(self.negative_sampling_table[sampled_id])\n",
    "        return np.array(samples[:num_samples])"
   ]
  },
  {
   "cell_type": "markdown",
   "metadata": {},
   "source": [
    "## Create the corpus\n",
    "\n",
    "Now that we have code to turn the text into training data, let's do so. We've provided several files for you to help:\n",
    "\n",
    "* `reviews-word2vec.tiny.txt` -- use this to debug your corpus reader\n",
    "* `reviews-word2vec.med.txt` -- use this to debug/verify the whole word2vec works\n",
    "* `reviews-word2vec.large.txt.gz` -- use this when everything works to generate your vectors for later parts\n",
    "* `reviews-word2vec.HUGE.gz` -- _do not use this_ unless (1) everything works and (2) you really want to test/explore. This file is not needed at all to do your homework.\n",
    "\n",
    "We recommend starting to debug with the first file, as it is small and fast to load (quicker to find bugs). When debugging, we recommend setting the `min_token_freq` argument to 2 so that you can verify that part of the code is working but you still have enough word types left to test the rest.\n",
    "\n",
    "You'll use the remaining files later, where they're described.\n",
    "\n",
    "In the next cell, create your `Corpus`, read in the data, and generate the negative sampling table."
   ]
  },
  {
   "cell_type": "code",
   "execution_count": 4,
   "metadata": {
    "scrolled": true,
    "ExecuteTime": {
     "end_time": "2024-03-04T04:17:35.787499Z",
     "start_time": "2024-03-04T04:17:29.613214Z"
    }
   },
   "outputs": [
    {
     "name": "stdout",
     "output_type": "stream",
     "text": [
      "Reading data and tokenizing\n",
      "Counting token frequencies\n",
      "Performing minimum thresholding\n",
      "Updating token frequencies after filtering <UNK>\n",
      "Create words and id mapping\n",
      "Compute probability of subsampling\n",
      "Create all token ID list\n",
      "Loaded all data from reviews-word2vec.med.txt; saw 7545136 tokens (29216 unique)\n",
      "Generating negative sampling table\n"
     ]
    }
   ],
   "source": [
    "corpus = Corpus(rng=RandomNumberGenerator(12345))\n",
    "corpus.load_data('reviews-word2vec.med.txt', 5)\n",
    "corpus.generate_negative_sampling_table()"
   ]
  },
  {
   "cell_type": "markdown",
   "metadata": {},
   "source": [
    "## Generate the training data\n",
    "\n",
    "Once we have the corpus ready, we need to generate our training dataset. Each instance in the dataset is a target word and positive and negative examples of contexts words. Given the target word as input, we'll want to predict (or not predict) these positive and negative context words as outputs using our network. Your task here is to create a python `list` of instances. \n",
    "\n",
    "Your final training data should be a list of tuples in the format ([target_word_id], [word_id_1, ...], [predicted_labels]), where each item in the list is a list:\n",
    "1. The first item is a list consisting only of the target word's ID.\n",
    "2. The second item is a list of word ids for both context words and negative samples \n",
    "3. The third item is a list of labels to predicted for each of the word ids in the second list (i.e., `1` for context words and `0` for negative samples). \n",
    "\n",
    "You will feed these tuples into the PyTorch `DatasetLoader` later that will do the converstion to `Tensor` objects. You will need to make sure that all of the lists in each tuple are `np.array` instances and are not plain python lists for this `Tensor` converstion to work."
   ]
  },
  {
   "cell_type": "code",
   "execution_count": 5,
   "metadata": {
    "ExecuteTime": {
     "end_time": "2024-03-04T04:19:02.666014Z",
     "start_time": "2024-03-04T04:17:35.788552Z"
    }
   },
   "outputs": [
    {
     "data": {
      "text/plain": "  0%|          | 0/7545136 [00:00<?, ?it/s]",
      "application/vnd.jupyter.widget-view+json": {
       "version_major": 2,
       "version_minor": 0,
       "model_id": "ccf5c0925b774fd494007bb5807922c5"
      }
     },
     "metadata": {},
     "output_type": "display_data"
    }
   ],
   "source": [
    "def generate_training_data(corpus, window_size=2, num_negative_samples_per_target=2):\n",
    "    sequence_length = len(corpus.full_token_sequence_as_ids)\n",
    "    training_data = []\n",
    "    \n",
    "    for i in tqdm(range(sequence_length)):\n",
    "        target_id = corpus.full_token_sequence_as_ids[i]\n",
    "        \n",
    "        # 初始化上下文窗口，然后移除目标词\n",
    "        context_window = np.arange(max(0, i - window_size), min(sequence_length, i + window_size + 1))\n",
    "        valid_context_ids = []\n",
    "        \n",
    "        for idx in context_window:\n",
    "            if idx != i:  # 排除目标词本身\n",
    "                word = corpus.index_to_word[corpus.full_token_sequence_as_ids[idx]]\n",
    "                if word not in stop_words and word != \"<UNK>\":  # 排除停用词和未知词\n",
    "                    valid_context_ids.append(idx)\n",
    "        \n",
    "        num_positive_samples = len(valid_context_ids)\n",
    "\n",
    "        max_context_words = (2 * window_size) * (1 + num_negative_samples_per_target)\n",
    "        context_ids = np.zeros(max_context_words, dtype=int)\n",
    "        context_labels = np.zeros(max_context_words, dtype=float)\n",
    "\n",
    "        # 设置正样本和标签\n",
    "        context_ids[:num_positive_samples] = corpus.full_token_sequence_as_ids[valid_context_ids]\n",
    "        context_labels[:num_positive_samples] = 1.0\n",
    "\n",
    "        # 生成负样本\n",
    "        total_samples_needed = max_context_words - num_positive_samples\n",
    "        negative_samples = corpus.generate_negative_samples(target_id, total_samples_needed)\n",
    "\n",
    "        # 设置负样本和标签\n",
    "        context_ids[num_positive_samples:num_positive_samples + total_samples_needed] = negative_samples\n",
    "        context_labels[num_positive_samples:num_positive_samples + total_samples_needed] = 0.0\n",
    "\n",
    "        training_data.append((target_id, context_ids, context_labels))\n",
    "    \n",
    "    return training_data\n",
    "    \n",
    "training_data = generate_training_data(corpus, window_size=2, num_negative_samples_per_target=2)\n",
    "\n",
    "    # For each target word in our dataset, select context words \n",
    "    # within +/- the window size in the token sequence\n",
    "    \n",
    "    # For each positive target, we need to select negative examples of\n",
    "    # words that were not in the context. Use the num_negative_samples_per_target\n",
    "    # hyperparameter to generate these, using the generate_negative_samples()\n",
    "    # method from the Corpus class\n",
    "\n",
    "    # NOTE: this part might not make sense until later when you do the training \n",
    "    # so feel free to revisit it to see why it happens.\n",
    "    #\n",
    "    # Our training will use batches of instances together (compare that \n",
    "    # with HW1's SGD that used one item at a time). PyTorch will require\n",
    "    # that all instances in a batches have the same size, which creates an issue\n",
    "    # for us here since the target words at the very beginning or end of the corpus\n",
    "    # have shorter contexts. \n",
    "    # \n",
    "    # To work around these edge-cases, we need to ensure that each instance has\n",
    "    # the same size, which means it needs to have the same number of positive\n",
    "    # and negative examples. Since we are short on positive examples here (due\n",
    "    # to the edge of the corpus), we can just add more negative samples.\n",
    "    #\n",
    "    # YOUR TASK: determine what is the maximum number of context words (positive\n",
    "    # and negative) for any instance and then, for instances that have fewer than\n",
    "    # this number of context words, add in negative examples.\n",
    "    #\n",
    "    # NOTE: The maximum is fixed, so you can precompute this outside the loop\n",
    "    # ahead of time."
   ]
  },
  {
   "cell_type": "markdown",
   "metadata": {},
   "source": [
    "## Create the network\n",
    "\n",
    "We'll create a new neural network as a subclass of `nn.Module` like we did in Homework 1. However, _unlike_ the network you built in Homework 1, we do not need to used linear layers to implement word2vec. Instead, we will use PyTorch's `Emedding` class, which maps an index (e.g., a word id in this case) to an embedding. \n",
    "\n",
    "Roughly speaking, word2vec's network makes a prediction by computing the dot product of the target word's embedding and a context word's embedding and then passing this dot product through the sigmoid function ($\\sigma$) to predict the probability that the context word was actually in the context. The homework write-up has lots of details on how this works. Your `forward()` function will have to implement this computation."
   ]
  },
  {
   "cell_type": "code",
   "execution_count": 6,
   "metadata": {
    "ExecuteTime": {
     "end_time": "2024-03-04T04:19:02.674699Z",
     "start_time": "2024-03-04T04:19:02.667013Z"
    }
   },
   "outputs": [],
   "source": [
    "class Word2Vec(nn.Module):\n",
    "    \n",
    "    def __init__(self, vocab_size, embedding_size):\n",
    "        super(Word2Vec, self).__init__()\n",
    "        \n",
    "        # Save what state you want and create the embeddings for your\n",
    "        # target and context words\n",
    "        self.vocab_size = vocab_size\n",
    "        self.embedding_size = embedding_size # feature\n",
    "        self.target_embeddings = nn.Embedding(vocab_size, embedding_size)\n",
    "        self.context_embeddings = nn.Embedding(vocab_size, embedding_size)\n",
    "        self.sig = nn.Sigmoid()\n",
    "        \n",
    "        # Once created, let's fill the embeddings with non-zero random\n",
    "        # numbers. We need to do this to get the training started. \n",
    "        #\n",
    "        # NOTE: Why do this? Think about what happens if all the embeddings\n",
    "        # are all zeros initially. What would the predictions look like for\n",
    "        # word2vec with these embeddings and how would the updated work?\n",
    "        \n",
    "        self.init_emb(init_range=0.5/self.vocab_size)\n",
    "        \n",
    "    def init_emb(self, init_range):\n",
    "        \n",
    "        # Fill your two embeddings with random numbers uniformly sampled\n",
    "        # between +/- init_range\n",
    "        self.target_embeddings.weight.data.uniform_(-init_range, init_range)\n",
    "        self.context_embeddings.weight.data.uniform_(-init_range, init_range)\n",
    "        \n",
    "    def forward(self, target_word_id, context_word_ids):\n",
    "        ''' \n",
    "        Predicts whether each context word was actually in the context of the target word.\n",
    "        The input is a tensor with a single target word's id and a tensor containing each\n",
    "        of the context words' ids (this includes both positive and negative examples).\n",
    "        '''\n",
    "        \n",
    "        # NOTE 1: This is probably the hardest part of the homework, so you'll\n",
    "        # need to figure out how to do the dot-product between embeddings and return\n",
    "        # the sigmoid. Be prepared for lots of debugging. For some reference,\n",
    "        # our implementation is three lines and really the hard part is just\n",
    "        # the last line. However, it's usually a matter of figuring out what\n",
    "        # that one line looks like that ends up being the hard part.\n",
    "        \n",
    "        # NOTE 2: In this homework you'll be dealing with *batches* of instances\n",
    "        # rather than a single instance at once. PyTorch mostly handles this\n",
    "        # seamlessly under the hood for you (which is very nice) but batching\n",
    "        # can show in weird ways and create challenges in debugging initially.\n",
    "        # For one, your inputs will get an extra dimension. So, for example,\n",
    "        # if you have a batch size of 4, your input for target_word_id will\n",
    "        # really be 4 x 1. If you get the embeddings of those targets,\n",
    "        # it then becomes 4x50! The same applies to the context_word_ids, except\n",
    "        # that was alreayd a list so now you have things with shape \n",
    "        #\n",
    "        #    (batch x context_words x embedding_size)\n",
    "        #\n",
    "        # One of your tasks will be to figure out how to get things lined up\n",
    "        # so everything \"just works\". When it does, the code looks surprisingly\n",
    "        # simple, but it might take a lot of debugging (or not!) to get there.\n",
    "        \n",
    "        # NOTE 3: We *strongly* discourage you from looking for existing \n",
    "        # implementations of word2vec online. Sadly, having reviewed most of the\n",
    "        # highly-visible ones, they are actually wrong (wow!) or are doing\n",
    "        # inefficient things like computing the full softmax instead of doing\n",
    "        # the negative sampling. Looking at these will likely leave you more\n",
    "        # confused than if you just tried to figure it out yourself.\n",
    "        \n",
    "        # NOTE 4: There many ways to implement this, some more efficient\n",
    "        # than others. You will want to get it working first and then\n",
    "        # test the timing to see how long it takes. As long as the\n",
    "        # code works (vector comparisons look good) you'll receive full\n",
    "        # credit. However, very slow implementations may take hours(!)\n",
    "        # to converge so plan ahead.\n",
    "        \n",
    "        \n",
    "        # Hint 1: You may want to review the mathematical operations on how\n",
    "        # to compute the dot product to see how to do these\n",
    "        \n",
    "        # Hint 2: the \"dim\" argument for some operations may come in handy,\n",
    "        # depending on your implementation\n",
    "        \n",
    "           \n",
    "        # TODO: Implement the forward pass of word2vec\n",
    "        target_embedding = self.target_embeddings(target_word_id)\n",
    "        context_embeddings = self.context_embeddings(context_word_ids)\n",
    "        \n",
    "        # 计算点积并应用Sigmoid函数\n",
    "        # 需要调整形状以支持批处理和多个上下文词\n",
    "        scores = torch.bmm(context_embeddings, target_embedding.unsqueeze(2)).squeeze(2)\n",
    "        predictions = self.sig(scores)\n",
    "        \n",
    "        return predictions"
   ]
  },
  {
   "cell_type": "markdown",
   "metadata": {},
   "source": [
    "## Train the network!\n",
    "\n",
    "Now that you have data in the right format and a neural network designed, it's time to train the network and see if it's all working. The trainin code will look surprisingly similar at times to your pytorch code from Homework 1 since all networks share the same base training setup. However, we'll add a few new elements to get you familiar with more common training techniques. \n",
    "\n",
    "For all steps, be sure to use the hyperparameters values described in the write-up.\n",
    "\n",
    "1. Initialize your optimizer and loss function \n",
    "2. Create your network\n",
    "3. Load your dataset into PyTorch's `DataLoader` class, which will take care of batching and shuffling for us (yay!)\n",
    "4. Create a new `SummaryWriter` to periodically write our running-sum of the loss to a tensorboard\n",
    "5. Train your model \n",
    "\n",
    "Two new elements show up. First, we'll be using `DataLoader` which is going to sample data for us and put it in a batch (and also convert the data to `Tensor` objects. You can iterate over the batches and each iteration will return all the items eventually, one batch at a time (a full epoch's worth).\n",
    "\n",
    "The second new part is using `wandb`. As you might have noticed in Homework 1, training neural models can take some time. [Weights & Biases](https://wandb.ai/) is a handy web-based view that you can check during training to see how the model is doing. We'll use it here and periodically log a running sum of the loss after a set number of steps. The Homework write up has a plot of what this looks like. We'll be doing something simple here with wandb but it will come in handy later as you train larger models (for longer) and may want to visually check if your model is converging and is [easy to integrate](https://docs.wandb.ai/guides/integrations/pytorch).\n",
    "\n",
    "Once you get the code working, to start training, we recommend training on the `reviews-word2vec.med.txt` dataset. This data is small enough you can get through an epoch in a few minutes (or less) while still being large enough you can test whether the model is learning anything by examining common words. Below this cell we've added a few helper functions that you can use to debug and query your model. In particular, the `get_neighbors()` function is a great way to test: if your model has learned anything, the nearest neighbors for common words should seem reasonable (without having to jump through mental hoops). An easy word to test on the `med` data is \"january\" which should return month-related words as being most similar.\n",
    "\n",
    "**NOTE**: Since we're training biographies, the text itself will be skewed towards words likely to show up biographices--which isn't necessary like \"regular\" text. You may find that your model has few instances of words you think are common, or that the model learns poor or unusual neighbors for these. When querying the neighbors, it can help to think of which words you think are likely to show up in biographies on Wikipedia and use those as probes to see what the model has learned.\n",
    "\n",
    "Once you're convinced the model is learning, switch to the `med` data and train your model as specified in the PDF. Once trained, save your model using the `save()` function at the end of the notebook. This function records your data in a common format for word2vec vectors and lets you load the vectors into other libraries that have more advanced functionality. In particular, you can use the [gensim](https://radimrehurek.com/gensim/auto_examples/tutorials/run_word2vec.html) code in other notebook included to explore the vectors and do simple vector analogies."
   ]
  },
  {
   "cell_type": "code",
   "execution_count": 7,
   "outputs": [],
   "source": [
    "# TODO: Set your training stuff, hyperparameters, models, etc. here\n",
    "device = torch.device(\"cuda:0\" if torch.cuda.is_available() else \"cpu\")\n",
    "vocab_size = len(corpus.word_counts)\n",
    "embedding_size = 50\n",
    "window_size = 2\n",
    "num_negative_samples_per_target = 2\n",
    "context_size = (2 * window_size) * (1 + num_negative_samples_per_target) # 12\n",
    "\n",
    "lr = 0.001\n",
    "num_epoch = 8\n",
    "max_step = 1000000000"
   ],
   "metadata": {
    "collapsed": false,
    "ExecuteTime": {
     "end_time": "2024-03-04T04:19:02.679205Z",
     "start_time": "2024-03-04T04:19:02.675699Z"
    }
   }
  },
  {
   "cell_type": "code",
   "execution_count": 8,
   "outputs": [
    {
     "data": {
      "text/plain": "  0%|          | 0/3772568 [00:00<?, ?it/s]",
      "application/vnd.jupyter.widget-view+json": {
       "version_major": 2,
       "version_minor": 0,
       "model_id": "ff6362748ff9457da519d6e5d6c4353c"
      }
     },
     "metadata": {},
     "output_type": "display_data"
    },
    {
     "data": {
      "text/plain": "  0%|          | 0/943142 [00:00<?, ?it/s]",
      "application/vnd.jupyter.widget-view+json": {
       "version_major": 2,
       "version_minor": 0,
       "model_id": "47ac1c66d2fc4c5d82a84d7c9fed9fd8"
      }
     },
     "metadata": {},
     "output_type": "display_data"
    },
    {
     "data": {
      "text/plain": "  0%|          | 0/235786 [00:00<?, ?it/s]",
      "application/vnd.jupyter.widget-view+json": {
       "version_major": 2,
       "version_minor": 0,
       "model_id": "9689365f359e4a70bac9ffc2c5f7d895"
      }
     },
     "metadata": {},
     "output_type": "display_data"
    },
    {
     "data": {
      "text/plain": "  0%|          | 0/117893 [00:00<?, ?it/s]",
      "application/vnd.jupyter.widget-view+json": {
       "version_major": 2,
       "version_minor": 0,
       "model_id": "f9a0e3e0a3ec4d4688e70d2ac8001974"
      }
     },
     "metadata": {},
     "output_type": "display_data"
    },
    {
     "data": {
      "text/plain": "  0%|          | 0/58947 [00:00<?, ?it/s]",
      "application/vnd.jupyter.widget-view+json": {
       "version_major": 2,
       "version_minor": 0,
       "model_id": "56018e25aa88470eaf823b4684762ddc"
      }
     },
     "metadata": {},
     "output_type": "display_data"
    },
    {
     "data": {
      "text/plain": "  0%|          | 0/29474 [00:00<?, ?it/s]",
      "application/vnd.jupyter.widget-view+json": {
       "version_major": 2,
       "version_minor": 0,
       "model_id": "1d51a75d7de24ebc876cdeea3970d495"
      }
     },
     "metadata": {},
     "output_type": "display_data"
    },
    {
     "data": {
      "text/plain": "  0%|          | 0/14737 [00:00<?, ?it/s]",
      "application/vnd.jupyter.widget-view+json": {
       "version_major": 2,
       "version_minor": 0,
       "model_id": "e4666e189c4f47bfa72978536fdbdb6f"
      }
     },
     "metadata": {},
     "output_type": "display_data"
    },
    {
     "data": {
      "text/plain": "  0%|          | 0/7369 [00:00<?, ?it/s]",
      "application/vnd.jupyter.widget-view+json": {
       "version_major": 2,
       "version_minor": 0,
       "model_id": "c225d67c8f6447748125646ea00b4cb1"
      }
     },
     "metadata": {},
     "output_type": "display_data"
    },
    {
     "data": {
      "text/plain": "  0%|          | 0/3685 [00:00<?, ?it/s]",
      "application/vnd.jupyter.widget-view+json": {
       "version_major": 2,
       "version_minor": 0,
       "model_id": "d429f079ab644fb1836b30e88680c61c"
      }
     },
     "metadata": {},
     "output_type": "display_data"
    },
    {
     "data": {
      "text/plain": "  0%|          | 0/1843 [00:00<?, ?it/s]",
      "application/vnd.jupyter.widget-view+json": {
       "version_major": 2,
       "version_minor": 0,
       "model_id": "5700225d457a4a8096f66cb485dc82de"
      }
     },
     "metadata": {},
     "output_type": "display_data"
    },
    {
     "data": {
      "text/plain": "  0%|          | 0/922 [00:00<?, ?it/s]",
      "application/vnd.jupyter.widget-view+json": {
       "version_major": 2,
       "version_minor": 0,
       "model_id": "1004b7e999004151add2bafd79a2a2c6"
      }
     },
     "metadata": {},
     "output_type": "display_data"
    },
    {
     "data": {
      "text/plain": "<Figure size 640x480 with 1 Axes>",
      "image/png": "[encoded data removed]"
     },
     "metadata": {},
     "output_type": "display_data"
    }
   ],
   "source": [
    "model = Word2Vec(vocab_size, embedding_size)\n",
    "criterion = nn.BCELoss()\n",
    "optimizer = optim.AdamW(model.parameters(), lr = lr)\n",
    "\n",
    "batch_sizes = [2, 8, 32, 64, 128, 256, 512, 1024, 2048, 4096, 8192]\n",
    "times_per_batch = []\n",
    "estimated_times_per_epoch = []\n",
    "\n",
    "last_loss_sum = 0\n",
    "loss_sum = 0\n",
    "for batch_size in batch_sizes:\n",
    "    model = model.to(device)\n",
    "    train_dataloader = DataLoader(training_data, batch_size=batch_size, shuffle=True)\n",
    "    writer = SummaryWriter()\n",
    "\n",
    "    start_time = time.time()\n",
    "    for step, data in enumerate(tqdm(train_dataloader)):\n",
    "        if step >= 100:  # 仅运行前100个批次来估计速度\n",
    "            break\n",
    "\n",
    "        # NOTE: since you created the data as a tuple of three np.array instances,\n",
    "        # these have now been converted to Tensor objects for us\n",
    "        target_ids, context_ids, labels = data\n",
    "\n",
    "        # for GPU training\n",
    "        target_ids = target_ids.to(device)\n",
    "        context_ids = context_ids.to(device)\n",
    "        labels = labels.to(device)\n",
    "\n",
    "        # TODO: Fill in all the training details here\n",
    "        optimizer.zero_grad()\n",
    "        outputs = torch.reshape(model(target_ids, context_ids), (-1, context_size))\n",
    "        loss = criterion(outputs.float(), labels.float())\n",
    "        loss_sum += loss.item()  # Adjusted to add item() for correct summation\n",
    "        loss.backward()\n",
    "        optimizer.step()\n",
    "\n",
    "    end_time = time.time()\n",
    "\n",
    "    time_per_batch = (end_time - start_time) / 100\n",
    "    times_per_batch.append(time_per_batch)\n",
    "    estimated_time_per_epoch = time_per_batch * len(train_dataloader)\n",
    "    estimated_times_per_epoch.append(estimated_time_per_epoch)\n",
    "\n",
    "# 绘制结果\n",
    "plt.plot(batch_sizes, estimated_times_per_epoch, marker='o')\n",
    "plt.xscale('log')\n",
    "plt.yscale('log')\n",
    "plt.xlabel('Batch Size')\n",
    "plt.ylabel('Estimated Time for One Epoch (seconds)')\n",
    "plt.title('Impact of Batch Size on Training Speed')\n",
    "plt.show()"
   ],
   "metadata": {
    "collapsed": false,
    "ExecuteTime": {
     "end_time": "2024-03-04T04:19:31.231898Z",
     "start_time": "2024-03-04T04:19:02.679205Z"
    }
   }
  },
  {
   "cell_type": "code",
   "execution_count": 9,
   "metadata": {
    "ExecuteTime": {
     "end_time": "2024-03-04T04:33:19.334714Z",
     "start_time": "2024-03-04T04:19:31.232896Z"
    }
   },
   "outputs": [
    {
     "name": "stderr",
     "output_type": "stream",
     "text": [
      "\u001B[34m\u001B[1mwandb\u001B[0m: Currently logged in as: \u001B[33myanzhuo\u001B[0m. Use \u001B[1m`wandb login --relogin`\u001B[0m to force relogin\n"
     ]
    },
    {
     "data": {
      "text/plain": "<IPython.core.display.HTML object>",
      "text/html": "Tracking run with wandb version 0.16.3"
     },
     "metadata": {},
     "output_type": "display_data"
    },
    {
     "data": {
      "text/plain": "<IPython.core.display.HTML object>",
      "text/html": "Run data is saved locally in <code>G:\\My Drive\\SI_630\\Homeworks\\Homework2\\wandb\\run-20240304_121934-f8p98aul</code>"
     },
     "metadata": {},
     "output_type": "display_data"
    },
    {
     "data": {
      "text/plain": "<IPython.core.display.HTML object>",
      "text/html": "Syncing run <strong><a href='https://wandb.ai/yanzhuo/word2vec_project/runs/f8p98aul' target=\"_blank\">clear-dream-43</a></strong> to <a href='https://wandb.ai/yanzhuo/word2vec_project' target=\"_blank\">Weights & Biases</a> (<a href='https://wandb.me/run' target=\"_blank\">docs</a>)<br/>"
     },
     "metadata": {},
     "output_type": "display_data"
    },
    {
     "data": {
      "text/plain": "<IPython.core.display.HTML object>",
      "text/html": " View project at <a href='https://wandb.ai/yanzhuo/word2vec_project' target=\"_blank\">https://wandb.ai/yanzhuo/word2vec_project</a>"
     },
     "metadata": {},
     "output_type": "display_data"
    },
    {
     "data": {
      "text/plain": "<IPython.core.display.HTML object>",
      "text/html": " View run at <a href='https://wandb.ai/yanzhuo/word2vec_project/runs/f8p98aul' target=\"_blank\">https://wandb.ai/yanzhuo/word2vec_project/runs/f8p98aul</a>"
     },
     "metadata": {},
     "output_type": "display_data"
    },
    {
     "name": "stdout",
     "output_type": "stream",
     "text": [
      "Epoch  0\n"
     ]
    },
    {
     "data": {
      "text/plain": "  0%|          | 0/1843 [00:00<?, ?it/s]",
      "application/vnd.jupyter.widget-view+json": {
       "version_major": 2,
       "version_minor": 0,
       "model_id": "47bc7131bed94005b5015125bfd97a7d"
      }
     },
     "metadata": {},
     "output_type": "display_data"
    },
    {
     "name": "stdout",
     "output_type": "stream",
     "text": [
      "Step 100, Avg Loss: 0.6592952924966812\n",
      "Step 200, Avg Loss: 0.5279477623105049\n",
      "Step 300, Avg Loss: 0.4729562509059906\n",
      "Step 400, Avg Loss: 0.4568196111917496\n",
      "Step 500, Avg Loss: 0.44957395404577255\n",
      "Step 600, Avg Loss: 0.4455087608098984\n",
      "Step 700, Avg Loss: 0.44301833033561705\n",
      "Step 800, Avg Loss: 0.4412838733196259\n",
      "Step 900, Avg Loss: 0.4402744495868683\n",
      "Step 1000, Avg Loss: 0.43892025589942935\n",
      "Step 1100, Avg Loss: 0.43807004183530807\n",
      "Step 1200, Avg Loss: 0.4372126457095146\n",
      "Step 1300, Avg Loss: 0.4367387083172798\n",
      "Step 1400, Avg Loss: 0.4354879605770111\n",
      "Step 1500, Avg Loss: 0.4345759814977646\n",
      "Step 1600, Avg Loss: 0.4334326210618019\n",
      "Step 1700, Avg Loss: 0.4317262062430382\n",
      "Step 1800, Avg Loss: 0.4299523901939392\n",
      "Epoch  1\n"
     ]
    },
    {
     "data": {
      "text/plain": "  0%|          | 0/1843 [00:00<?, ?it/s]",
      "application/vnd.jupyter.widget-view+json": {
       "version_major": 2,
       "version_minor": 0,
       "model_id": "fedd6e0f548d416cbf612f3058bebc04"
      }
     },
     "metadata": {},
     "output_type": "display_data"
    },
    {
     "name": "stdout",
     "output_type": "stream",
     "text": [
      "Step 100, Avg Loss: 0.4274872088432312\n",
      "Step 200, Avg Loss: 0.4260793173313141\n",
      "Step 300, Avg Loss: 0.42503870397806165\n",
      "Step 400, Avg Loss: 0.4236446738243103\n",
      "Step 500, Avg Loss: 0.42221609354019163\n",
      "Step 600, Avg Loss: 0.4209402620792389\n",
      "Step 700, Avg Loss: 0.4197561183571816\n",
      "Step 800, Avg Loss: 0.41860796958208085\n",
      "Step 900, Avg Loss: 0.41701572865247727\n",
      "Step 1000, Avg Loss: 0.4157050693035126\n",
      "Step 1100, Avg Loss: 0.4152026009559631\n",
      "Step 1200, Avg Loss: 0.4143892806768417\n",
      "Step 1300, Avg Loss: 0.41327655375003813\n",
      "Step 1400, Avg Loss: 0.41229319930076597\n",
      "Step 1500, Avg Loss: 0.4111905559897423\n",
      "Step 1600, Avg Loss: 0.41048047006130217\n",
      "Step 1700, Avg Loss: 0.4097961822152138\n",
      "Step 1800, Avg Loss: 0.40889629900455476\n",
      "Epoch  2\n"
     ]
    },
    {
     "data": {
      "text/plain": "  0%|          | 0/1843 [00:00<?, ?it/s]",
      "application/vnd.jupyter.widget-view+json": {
       "version_major": 2,
       "version_minor": 0,
       "model_id": "244eae6b3cdd42b5815d369661f61384"
      }
     },
     "metadata": {},
     "output_type": "display_data"
    },
    {
     "name": "stdout",
     "output_type": "stream",
     "text": [
      "Step 100, Avg Loss: 0.40627642661333085\n",
      "Step 200, Avg Loss: 0.4051882004737854\n",
      "Step 300, Avg Loss: 0.40514568269252776\n",
      "Step 400, Avg Loss: 0.4048408269882202\n",
      "Step 500, Avg Loss: 0.40409599274396896\n",
      "Step 600, Avg Loss: 0.4033521297574043\n",
      "Step 700, Avg Loss: 0.40290362626314163\n",
      "Step 800, Avg Loss: 0.40251156747341155\n",
      "Step 900, Avg Loss: 0.4020174843072891\n",
      "Step 1000, Avg Loss: 0.4015131002664566\n",
      "Step 1100, Avg Loss: 0.400969585776329\n",
      "Step 1200, Avg Loss: 0.4005560305714607\n",
      "Step 1300, Avg Loss: 0.40011801064014435\n",
      "Step 1400, Avg Loss: 0.3997350290417671\n",
      "Step 1500, Avg Loss: 0.3995711326599121\n",
      "Step 1600, Avg Loss: 0.3986434322595596\n",
      "Step 1700, Avg Loss: 0.39829379349946975\n",
      "Step 1800, Avg Loss: 0.398013935983181\n",
      "Epoch  3\n"
     ]
    },
    {
     "data": {
      "text/plain": "  0%|          | 0/1843 [00:00<?, ?it/s]",
      "application/vnd.jupyter.widget-view+json": {
       "version_major": 2,
       "version_minor": 0,
       "model_id": "a797d7f4b2ee43f0bc9976f6ed7df221"
      }
     },
     "metadata": {},
     "output_type": "display_data"
    },
    {
     "name": "stdout",
     "output_type": "stream",
     "text": [
      "Step 100, Avg Loss: 0.39539325565099714\n",
      "Step 200, Avg Loss: 0.39537166208028796\n",
      "Step 300, Avg Loss: 0.39483829110860824\n",
      "Step 400, Avg Loss: 0.39499686658382416\n",
      "Step 500, Avg Loss: 0.3944396674633026\n",
      "Step 600, Avg Loss: 0.3940022709965706\n",
      "Step 700, Avg Loss: 0.3937265291810036\n",
      "Step 800, Avg Loss: 0.3935673400759697\n",
      "Step 900, Avg Loss: 0.3935748964548111\n",
      "Step 1000, Avg Loss: 0.39311762928962707\n",
      "Step 1100, Avg Loss: 0.3930637016892433\n",
      "Step 1200, Avg Loss: 0.39296875536441805\n",
      "Step 1300, Avg Loss: 0.3924543133378029\n",
      "Step 1400, Avg Loss: 0.3924268692731857\n",
      "Step 1500, Avg Loss: 0.3923610746860504\n",
      "Step 1600, Avg Loss: 0.3925539404153824\n",
      "Step 1700, Avg Loss: 0.3915483385324478\n",
      "Step 1800, Avg Loss: 0.39168227910995485\n",
      "Epoch  4\n"
     ]
    },
    {
     "data": {
      "text/plain": "  0%|          | 0/1843 [00:00<?, ?it/s]",
      "application/vnd.jupyter.widget-view+json": {
       "version_major": 2,
       "version_minor": 0,
       "model_id": "0c84f21915fe4cd297ba0d66d86e5641"
      }
     },
     "metadata": {},
     "output_type": "display_data"
    },
    {
     "name": "stdout",
     "output_type": "stream",
     "text": [
      "Step 100, Avg Loss: 0.3884074530005455\n",
      "Step 200, Avg Loss: 0.38875749975442886\n",
      "Step 300, Avg Loss: 0.3887026232481003\n",
      "Step 400, Avg Loss: 0.3884183925390243\n",
      "Step 500, Avg Loss: 0.38873387694358824\n",
      "Step 600, Avg Loss: 0.38817921698093416\n",
      "Step 700, Avg Loss: 0.3884194454550743\n",
      "Step 800, Avg Loss: 0.3879128733277321\n",
      "Step 900, Avg Loss: 0.38825584053993223\n",
      "Step 1000, Avg Loss: 0.3880434897542\n",
      "Step 1100, Avg Loss: 0.3881081283092499\n",
      "Step 1200, Avg Loss: 0.38775307148694993\n",
      "Step 1300, Avg Loss: 0.3877562347054482\n",
      "Step 1400, Avg Loss: 0.38766210108995436\n",
      "Step 1500, Avg Loss: 0.38753842502832414\n",
      "Step 1600, Avg Loss: 0.38771715104579924\n",
      "Step 1700, Avg Loss: 0.3875085565447807\n",
      "Step 1800, Avg Loss: 0.3876657971739769\n",
      "Epoch  5\n"
     ]
    },
    {
     "data": {
      "text/plain": "  0%|          | 0/1843 [00:00<?, ?it/s]",
      "application/vnd.jupyter.widget-view+json": {
       "version_major": 2,
       "version_minor": 0,
       "model_id": "a170b1faa86b4bd888848537b13776b1"
      }
     },
     "metadata": {},
     "output_type": "display_data"
    },
    {
     "name": "stdout",
     "output_type": "stream",
     "text": [
      "Step 100, Avg Loss: 0.3845465975999832\n",
      "Step 200, Avg Loss: 0.38416323900222776\n",
      "Step 300, Avg Loss: 0.3842535188794136\n",
      "Step 400, Avg Loss: 0.38428531378507613\n",
      "Step 500, Avg Loss: 0.3838659617304802\n",
      "Step 600, Avg Loss: 0.3845667478442192\n",
      "Step 700, Avg Loss: 0.38394798755645754\n",
      "Step 800, Avg Loss: 0.3845322486758232\n",
      "Step 900, Avg Loss: 0.38433327317237853\n",
      "Step 1000, Avg Loss: 0.38439530998468396\n",
      "Step 1100, Avg Loss: 0.3843854480981827\n",
      "Step 1200, Avg Loss: 0.38467554718256\n",
      "Step 1300, Avg Loss: 0.38442878663539887\n",
      "Step 1400, Avg Loss: 0.3842873758077621\n",
      "Step 1500, Avg Loss: 0.3845183911919594\n",
      "Step 1600, Avg Loss: 0.3842893126606941\n",
      "Step 1700, Avg Loss: 0.38480556100606916\n",
      "Step 1800, Avg Loss: 0.38437755793333056\n",
      "Epoch  6\n"
     ]
    },
    {
     "data": {
      "text/plain": "  0%|          | 0/1843 [00:00<?, ?it/s]",
      "application/vnd.jupyter.widget-view+json": {
       "version_major": 2,
       "version_minor": 0,
       "model_id": "366701f37eaf4f05a062d968271a246b"
      }
     },
     "metadata": {},
     "output_type": "display_data"
    },
    {
     "name": "stdout",
     "output_type": "stream",
     "text": [
      "Step 100, Avg Loss: 0.3810592582821846\n",
      "Step 200, Avg Loss: 0.38131475418806077\n",
      "Step 300, Avg Loss: 0.38140007823705674\n",
      "Step 400, Avg Loss: 0.3812195563316345\n",
      "Step 500, Avg Loss: 0.3815599367022514\n",
      "Step 600, Avg Loss: 0.38148232102394103\n",
      "Step 700, Avg Loss: 0.3816616997122765\n",
      "Step 800, Avg Loss: 0.38161863952875136\n",
      "Step 900, Avg Loss: 0.38190057158470153\n",
      "Step 1000, Avg Loss: 0.3818885785341263\n",
      "Step 1100, Avg Loss: 0.38171309530735015\n",
      "Step 1200, Avg Loss: 0.38157770127058027\n",
      "Step 1300, Avg Loss: 0.38198543787002565\n",
      "Step 1400, Avg Loss: 0.38199331432580946\n",
      "Step 1500, Avg Loss: 0.3822572541236877\n",
      "Step 1600, Avg Loss: 0.38199262678623197\n",
      "Step 1700, Avg Loss: 0.3818464258313179\n",
      "Step 1800, Avg Loss: 0.38176191329956055\n",
      "Epoch  7\n"
     ]
    },
    {
     "data": {
      "text/plain": "  0%|          | 0/1843 [00:00<?, ?it/s]",
      "application/vnd.jupyter.widget-view+json": {
       "version_major": 2,
       "version_minor": 0,
       "model_id": "9d7cca9958ce4cdc93f148a2c2ac139c"
      }
     },
     "metadata": {},
     "output_type": "display_data"
    },
    {
     "name": "stdout",
     "output_type": "stream",
     "text": [
      "Step 100, Avg Loss: 0.378621991276741\n",
      "Step 200, Avg Loss: 0.3784827381372452\n",
      "Step 300, Avg Loss: 0.3789989820122719\n",
      "Step 400, Avg Loss: 0.379026343524456\n",
      "Step 500, Avg Loss: 0.3791691845655441\n",
      "Step 600, Avg Loss: 0.3798527318239212\n",
      "Step 700, Avg Loss: 0.3795066875219345\n",
      "Step 800, Avg Loss: 0.3795259693264961\n",
      "Step 900, Avg Loss: 0.3797216486930847\n",
      "Step 1000, Avg Loss: 0.3797161200642586\n",
      "Step 1100, Avg Loss: 0.37992704659700394\n",
      "Step 1200, Avg Loss: 0.37983498245477676\n",
      "Step 1300, Avg Loss: 0.37981365352869034\n",
      "Step 1400, Avg Loss: 0.37997681498527525\n",
      "Step 1500, Avg Loss: 0.38000667542219163\n",
      "Step 1600, Avg Loss: 0.3802549928426743\n",
      "Step 1700, Avg Loss: 0.3801245364546776\n",
      "Step 1800, Avg Loss: 0.3806164863705635\n"
     ]
    },
    {
     "data": {
      "text/plain": "VBox(children=(Label(value='0.001 MB of 0.011 MB uploaded\\r'), FloatProgress(value=0.120090067550663, max=1.0)…",
      "application/vnd.jupyter.widget-view+json": {
       "version_major": 2,
       "version_minor": 0,
       "model_id": "b116a94da2dd4446a6b0dc72055b737c"
      }
     },
     "metadata": {},
     "output_type": "display_data"
    },
    {
     "data": {
      "text/plain": "<IPython.core.display.HTML object>",
      "text/html": "<style>\n    table.wandb td:nth-child(1) { padding: 0 10px; text-align: left ; width: auto;} td:nth-child(2) {text-align: left ; width: 100%}\n    .wandb-row { display: flex; flex-direction: row; flex-wrap: wrap; justify-content: flex-start; width: 100% }\n    .wandb-col { display: flex; flex-direction: column; flex-basis: 100%; flex: 1; padding: 10px; }\n    </style>\n<div class=\"wandb-row\"><div class=\"wandb-col\"><h3>Run history:</h3><br/><table class=\"wandb\"><tr><td>Cumulative Loss</td><td>█▅▄▄▄▃▃▃▃▂▂▂▂▂▂▂▂▂▂▂▁▁▁▁▁▁▁▁▁▁▁▁▁▁▁▁▁▁▁▁</td></tr></table><br/></div><div class=\"wandb-col\"><h3>Run summary:</h3><br/><table class=\"wandb\"><tr><td>Cumulative Loss</td><td>0.38062</td></tr></table><br/></div></div>"
     },
     "metadata": {},
     "output_type": "display_data"
    },
    {
     "data": {
      "text/plain": "<IPython.core.display.HTML object>",
      "text/html": " View run <strong style=\"color:#cdcd00\">clear-dream-43</strong> at: <a href='https://wandb.ai/yanzhuo/word2vec_project/runs/f8p98aul' target=\"_blank\">https://wandb.ai/yanzhuo/word2vec_project/runs/f8p98aul</a><br/> View job at <a href='https://wandb.ai/yanzhuo/word2vec_project/jobs/QXJ0aWZhY3RDb2xsZWN0aW9uOjE0NDQ2NjAyNw==/version_details/v11' target=\"_blank\">https://wandb.ai/yanzhuo/word2vec_project/jobs/QXJ0aWZhY3RDb2xsZWN0aW9uOjE0NDQ2NjAyNw==/version_details/v11</a><br/>Synced 5 W&B file(s), 0 media file(s), 0 artifact file(s) and 0 other file(s)"
     },
     "metadata": {},
     "output_type": "display_data"
    },
    {
     "data": {
      "text/plain": "<IPython.core.display.HTML object>",
      "text/html": "Find logs at: <code>.\\wandb\\run-20240304_121934-f8p98aul\\logs</code>"
     },
     "metadata": {},
     "output_type": "display_data"
    }
   ],
   "source": [
    "best_batch_size = 1024\n",
    "train_dataloader = DataLoader(training_data, batch_size=best_batch_size, shuffle=True)\n",
    "\n",
    "# init the model\n",
    "model = Word2Vec(vocab_size, embedding_size).to(device)\n",
    "optimizer = torch.optim.Adam(model.parameters(), lr=lr)\n",
    "criterion = torch.nn.BCELoss()\n",
    "writer = SummaryWriter()\n",
    "\n",
    "# TODO: Initialize weights and biases (wandb) here \n",
    "wandb.init(project=\"word2vec_project\", entity=\"yanzhuo\")\n",
    "wandb.config = {\n",
    "    \"learning_rate\": lr,\n",
    "    \"epochs\": num_epoch,\n",
    "    \"batch_size\": best_batch_size,\n",
    "}\n",
    "\n",
    "# 可选：记录模型结构\n",
    "wandb.watch(model, log=\"all\")\n",
    "\n",
    "# HINT: wrapping the epoch/step loops in nested tqdm calls is a great way\n",
    "# to keep track of how fast things are and how much longer training will take\n",
    "for epoch in range(num_epoch):\n",
    "    print(\"Epoch \", epoch)\n",
    "    loss_sum = 0\n",
    "    \n",
    "    # TODO: use your DataLoader to iterate over the data\n",
    "    for step, data in enumerate(tqdm(train_dataloader)):\n",
    "\n",
    "        # NOTE: since you created the data as a tuple of three np.array instances,\n",
    "        # these have now been converted to Tensor objects for us\n",
    "        target_ids, context_ids, labels = [d.to(device) for d in data]\n",
    "        \n",
    "        # for GPU training\n",
    "        target_ids = target_ids.to(device)\n",
    "        context_ids = context_ids.to(device)\n",
    "        labels = labels.to(device)\n",
    "        \n",
    "        # TODO: Fill in all the training details here\n",
    "        optimizer.zero_grad()\n",
    "        outputs = model(target_ids, context_ids).squeeze()\n",
    "        loss = criterion(outputs, labels.float())\n",
    "        loss_sum += loss.item()  # Adjusted to add item() for correct summation\n",
    "        loss.backward()\n",
    "        optimizer.step()\n",
    "        \n",
    "        # TODO: Based on the details in the Homework PDF, periodically\n",
    "        # report the running-sum of the loss to tensorboard. Be sure\n",
    "        # to reset the running sum after reporting it.\n",
    "        if (step + 1) % 100 == 0:\n",
    "            avg_loss = loss_sum / 100\n",
    "            print(f\"Step {step+1}, Avg Loss: {avg_loss}\")\n",
    "            writer.add_scalar('Loss/train', avg_loss, epoch * len(train_dataloader) + step)\n",
    "            wandb.log({\"Cumulative Loss\": avg_loss})\n",
    "            loss_sum = 0  # 重置损失和\n",
    "        \n",
    "        # TODO: it can be helpful to add some early stopping here after\n",
    "        # a fixed number of steps (e.g., if step > max_steps)\n",
    "        if step > max_step:\n",
    "            print(\"Early stopping triggered.\")\n",
    "            break\n",
    "\n",
    "# once you finish training, it's good practice to switch to eval.\n",
    "model.eval()\n",
    "wandb.finish()"
   ]
  },
  {
   "cell_type": "markdown",
   "metadata": {},
   "source": [
    "## Verify things are working\n",
    "\n",
    "Once you have an initial model trained, try using the following code to query the model for what are the nearest neighbor of a word. This code is intended to help you debug"
   ]
  },
  {
   "cell_type": "code",
   "execution_count": 10,
   "metadata": {
    "ExecuteTime": {
     "end_time": "2024-03-04T04:33:19.340364Z",
     "start_time": "2024-03-04T04:33:19.334714Z"
    }
   },
   "outputs": [],
   "source": [
    "def get_neighbors(model, word_to_index, target_word):\n",
    "    \"\"\" \n",
    "    Finds the top 10 most similar words to a target word\n",
    "    \"\"\"\n",
    "    outputs = []\n",
    "    for word, index in tqdm(word_to_index.items(), total=len(word_to_index)):\n",
    "        similarity = compute_cosine_similarity(model, word_to_index, target_word, word)\n",
    "        result = {\"word\": word, \"score\": similarity}\n",
    "        outputs.append(result)\n",
    "\n",
    "    # Sort by highest scores\n",
    "    neighbors = sorted(outputs, key=lambda o: o['score'], reverse=True)\n",
    "    return neighbors[1:11]\n",
    "\n",
    "def compute_cosine_similarity(model, word_to_index, word_one, word_two):\n",
    "    '''\n",
    "    Computes the cosine similarity between the two words\n",
    "    '''\n",
    "    try:\n",
    "        word_one_index = word_to_index[word_one]\n",
    "        word_two_index = word_to_index[word_two]\n",
    "    except KeyError:\n",
    "        return 0\n",
    "\n",
    "    embedding_one = model.target_embeddings(torch.LongTensor([word_one_index]))\n",
    "    embedding_two = model.target_embeddings(torch.LongTensor([word_two_index]))\n",
    "    similarity = 1 - abs(float(cosine(embedding_one.detach().squeeze().numpy(),\n",
    "                                      embedding_two.detach().squeeze().numpy())))\n",
    "    return similarity"
   ]
  },
  {
   "cell_type": "code",
   "execution_count": 11,
   "metadata": {
    "ExecuteTime": {
     "end_time": "2024-03-04T04:33:20.140852Z",
     "start_time": "2024-03-04T04:33:19.341404Z"
    }
   },
   "outputs": [
    {
     "data": {
      "text/plain": "  0%|          | 0/29216 [00:00<?, ?it/s]",
      "application/vnd.jupyter.widget-view+json": {
       "version_major": 2,
       "version_minor": 0,
       "model_id": "512fe7402d5041bba232d6a3771ebf59"
      }
     },
     "metadata": {},
     "output_type": "display_data"
    },
    {
     "data": {
      "text/plain": "[{'word': 'february', 'score': 0.9166492524707921},\n {'word': 'october', 'score': 0.9076628093543151},\n {'word': 'nov', 'score': 0.9045731386033129},\n {'word': 'november', 'score': 0.9025630059975279},\n {'word': 'july', 'score': 0.8972409644052913},\n {'word': 'december', 'score': 0.8935660905823829},\n {'word': 'september', 'score': 0.8844580702157008},\n {'word': 'dec', 'score': 0.8755977369935606},\n {'word': '2004', 'score': 0.8710838116149975},\n {'word': 'aug', 'score': 0.868764031856797}]"
     },
     "execution_count": 11,
     "metadata": {},
     "output_type": "execute_result"
    }
   ],
   "source": [
    "get_neighbors(model, corpus.word_to_index, \"january\")"
   ]
  },
  {
   "cell_type": "code",
   "execution_count": 12,
   "metadata": {
    "ExecuteTime": {
     "end_time": "2024-03-04T04:33:20.964931Z",
     "start_time": "2024-03-04T04:33:20.144019Z"
    }
   },
   "outputs": [
    {
     "data": {
      "text/plain": "  0%|          | 0/29216 [00:00<?, ?it/s]",
      "application/vnd.jupyter.widget-view+json": {
       "version_major": 2,
       "version_minor": 0,
       "model_id": "283277549514473bbe4d7a31c0e27eec"
      }
     },
     "metadata": {},
     "output_type": "display_data"
    },
    {
     "data": {
      "text/plain": "[{'word': 'decent', 'score': 0.8733916760920594},\n {'word': 'great', 'score': 0.8469813788844018},\n {'word': 'okay', 'score': 0.7725606362708651},\n {'word': 'ok', 'score': 0.7725482513581264},\n {'word': 'solid', 'score': 0.7678952008047615},\n {'word': 'fine', 'score': 0.7589808484934315},\n {'word': 'excellent', 'score': 0.7510244195570446},\n {'word': 'quick', 'score': 0.7308573789220647},\n {'word': 'terrific', 'score': 0.7282807079367171},\n {'word': 'nice', 'score': 0.7168080446958635}]"
     },
     "execution_count": 12,
     "metadata": {},
     "output_type": "execute_result"
    }
   ],
   "source": [
    "get_neighbors(model, corpus.word_to_index, \"good\")"
   ]
  },
  {
   "cell_type": "markdown",
   "metadata": {},
   "source": [
    "# Save your vectors for the gensim inspection part!\n",
    "\n",
    "Once you have a fully trained model, save it using the code below. Note that we only save the `target_embeddings` from the model, but you could modify the code if you want to save the context vectors--or even try doing fancier things like saving the concatenation of the two or the average of the two!"
   ]
  },
  {
   "cell_type": "code",
   "execution_count": 13,
   "metadata": {
    "ExecuteTime": {
     "end_time": "2024-03-04T04:33:22.099463Z",
     "start_time": "2024-03-04T04:33:20.964931Z"
    }
   },
   "outputs": [
    {
     "data": {
      "text/plain": "  0%|          | 0/29216 [00:00<?, ?it/s]",
      "application/vnd.jupyter.widget-view+json": {
       "version_major": 2,
       "version_minor": 0,
       "model_id": "39a673bea9a448bf9f64ee71a7f83148"
      }
     },
     "metadata": {},
     "output_type": "display_data"
    }
   ],
   "source": [
    "def save(model, corpus, filename):\n",
    "    '''\n",
    "    Saves the model to the specified filename as a gensim KeyedVectors in the\n",
    "    text format so you can load it separately.\n",
    "    '''\n",
    "\n",
    "    # Creates an empty KeyedVectors with our embedding size\n",
    "    kv = KeyedVectors(vector_size=model.embedding_size)        \n",
    "    vectors = []\n",
    "    words = []\n",
    "    # Get the list of words/vectors in a consistent order\n",
    "    for index in trange(model.target_embeddings.num_embeddings):\n",
    "        word = corpus.index_to_word[index]\n",
    "        vectors.append(model.target_embeddings(torch.LongTensor([index])).detach().numpy()[0])\n",
    "        words.append(word)\n",
    "\n",
    "    # Fills the KV object with our data in the right order\n",
    "    kv.add_vectors(words, vectors) \n",
    "    kv.save_word2vec_format(filename, binary=False)\n",
    "\n",
    "model_name = \"1st_model\"\n",
    "save(model.cpu(), corpus, \"./models/\" + model_name + \".kv\")"
   ]
  },
  {
   "cell_type": "markdown",
   "metadata": {},
   "source": [
    "# Save your vectors / data for the pytorch classifier in Part 4!\n",
    "\n",
    "We'll be to using these vectors later in Part 4. We want to save them in a format that PyTorch can easily use. In particular you'll need to save the _state dict_ of the embeddings, which captures all of its information. "
   ]
  },
  {
   "cell_type": "code",
   "execution_count": 14,
   "metadata": {
    "ExecuteTime": {
     "end_time": "2024-03-04T04:33:22.154148Z",
     "start_time": "2024-03-04T04:33:22.099463Z"
    }
   },
   "outputs": [],
   "source": [
    "# 保存模型的嵌入层\n",
    "torch.save(model.target_embeddings.state_dict(), './models/'+model_name+'_embeddings_state_dict.pt')\n",
    "\n",
    "# 如果您的模型还包含上下文嵌入层并且您也想保存它：\n",
    "torch.save(model.context_embeddings.state_dict(), './models/'+model_name+'_context_embeddings_state_dict.pt')"
   ]
  },
  {
   "cell_type": "markdown",
   "metadata": {},
   "source": [
    "We will also need the mapping from word to index so we can figure out which embedding to use for different words. Save the `corpus` objects mapping to a file using your preferred format (e.g., pickle or json)."
   ]
  },
  {
   "cell_type": "code",
   "execution_count": 15,
   "metadata": {
    "ExecuteTime": {
     "end_time": "2024-03-04T04:33:22.215517Z",
     "start_time": "2024-03-04T04:33:22.154148Z"
    }
   },
   "outputs": [],
   "source": [
    "# 假设 corpus.word_to_index 是您需要保存的映射\n",
    "word_to_index = corpus.word_to_index\n",
    "\n",
    "# 使用pickle保存word_to_index映射\n",
    "with open('./models/'+model_name+'_word_to_index.pkl', 'wb') as f:\n",
    "    pickle.dump(word_to_index, f)\n",
    "    \n",
    "# 假设 corpus.word_to_index 是您需要保存的映射\n",
    "index_to_word = corpus.index_to_word\n",
    "\n",
    "# 使用pickle保存word_to_index映射\n",
    "with open('./models/'+model_name+'_index_to_word.pkl', 'wb') as f:\n",
    "    pickle.dump(index_to_word, f)"
   ]
  }
 ],
 "metadata": {
  "kernelspec": {
   "display_name": "Python 3 (ipykernel)",
   "language": "python",
   "name": "python3"
  },
  "language_info": {
   "codemirror_mode": {
    "name": "ipython",
    "version": 3
   },
   "file_extension": ".py",
   "mimetype": "text/x-python",
   "name": "python",
   "nbconvert_exporter": "python",
   "pygments_lexer": "ipython3",
   "version": "3.9.12"
  }
 },
 "nbformat": 4,
 "nbformat_minor": 2
}
