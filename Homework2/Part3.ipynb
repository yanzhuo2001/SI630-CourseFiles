{
 "cells": [
  {
   "cell_type": "markdown",
   "metadata": {},
   "source": [
    "# Homework 2: Word2vec Vector Analysis\n",
    "\n",
    "*Important Note:* Start this notebook only after you've gotten your word2vec model up and running!\n",
    "\n",
    "Many NLP packages support working with word embeddings. In this notebook you can work through the various problems assigned in Task 3. We've provided the basic functionality for loading word vectors using [Gensim](https://radimrehurek.com/gensim/models/keyedvectors.html), a good library for learning and using word vectors, and for working with the vectors. \n",
    "\n",
    "One of the fun parts of word vectors is getting a sense of what they learned. Feel free to explore the vectors here! "
   ]
  },
  {
   "cell_type": "code",
   "execution_count": 1,
   "metadata": {
    "ExecuteTime": {
     "end_time": "2024-03-06T19:20:28.695734Z",
     "start_time": "2024-03-06T19:20:28.520800Z"
    }
   },
   "outputs": [],
   "source": [
    "from gensim.models import KeyedVectors\n",
    "from gensim.test.utils import datapath"
   ]
  },
  {
   "cell_type": "code",
   "execution_count": 2,
   "metadata": {
    "ExecuteTime": {
     "end_time": "2024-03-06T19:20:29.920267Z",
     "start_time": "2024-03-06T19:20:28.695734Z"
    }
   },
   "outputs": [],
   "source": [
    "word_vectors = KeyedVectors.load_word2vec_format('./models/1st_model.kv', binary=False)"
   ]
  },
  {
   "cell_type": "code",
   "execution_count": 3,
   "metadata": {
    "ExecuteTime": {
     "end_time": "2024-03-06T19:20:29.939291Z",
     "start_time": "2024-03-06T19:20:29.920267Z"
    }
   },
   "outputs": [
    {
     "name": "stdout",
     "output_type": "stream",
     "text": [
      "Most similar words to 'books': [('novels', 0.7850952744483948), ('thors', 0.7531664371490479), ('trilogies', 0.7503639459609985), ('trilogys', 0.7415661215782166), ('ione', 0.7379797101020813), ('masie', 0.7359236478805542), ('volumes', 0.7258698344230652), ('readed', 0.7255989909172058), ('fairstein', 0.7196400165557861), ('steels', 0.7160031199455261)]\n",
      "Most similar words to 'photos': [('pictures', 0.9114264845848083), ('photographs', 0.9035590887069702), ('pics', 0.855538547039032), ('drawings', 0.8457251787185669), ('reproductions', 0.8346383571624756), ('illustrations', 0.8228906393051147), ('paintings', 0.797071635723114), ('plates', 0.786508321762085), ('color', 0.7799585461616516), ('postcards', 0.7798805832862854)]\n",
      "Most similar words to 'man': [('woman', 0.9356424808502197), ('lady', 0.8140305280685425), ('girl', 0.7934437990188599), ('widow', 0.7594937682151794), ('boy', 0.7426605820655823), ('gigolo', 0.7250719666481018), ('men', 0.7114989161491394), ('soldier', 0.711146891117096), ('guy', 0.7082135677337646), ('father', 0.7050625681877136)]\n",
      "Most similar words to 'football': [('baseball', 0.7777771949768066), ('hockey', 0.7679393291473389), ('basketball', 0.7625817656517029), ('tennis', 0.7518423199653625), ('sports', 0.7399362921714783), ('soccer', 0.7259362936019897), ('biker', 0.7077080607414246), ('opium', 0.701665997505188), ('bachelor', 0.7014763951301575), ('railroading', 0.6939085721969604)]\n",
      "Most similar words to 'son': [('daughter', 0.9388981461524963), ('grandson', 0.897301971912384), ('niece', 0.8670271039009094), ('granddaughter', 0.8635561466217041), ('sister', 0.7996444702148438), ('yr', 0.7936808466911316), ('nephew', 0.7719136476516724), ('3yo', 0.7682862877845764), ('grandaughter', 0.7682821750640869), ('youngest', 0.7657090425491333)]\n",
      "Most similar words to 'fantasy': [('sci', 0.8780395984649658), ('fi', 0.8679147362709045), ('dystopian', 0.8642154932022095), ('scifi', 0.8416747450828552), ('horror', 0.8383050560951233), ('romance', 0.8360348343849182), ('steampunk', 0.8357272744178772), ('fiction', 0.8199811577796936), ('genre', 0.8075745701789856), ('romances', 0.801800012588501)]\n",
      "Most similar words to 'magnificent': [('stunning', 0.7999769449234009), ('marvelous', 0.7822341322898865), ('superb', 0.775018036365509), ('paints', 0.7598323822021484), ('beautiful', 0.7554061412811279), ('incredible', 0.7467573285102844), ('amazing', 0.7454660534858704), ('masterful', 0.745262622833252), ('breathtaking', 0.7312777638435364), ('wonderful', 0.7261343002319336)]\n",
      "Most similar words to 'active': [('participation', 0.7136358618736267), ('duties', 0.6647897958755493), ('technician', 0.6640781760215759), ('sucessful', 0.6565831899642944), ('liter', 0.6531728506088257), ('whet', 0.6491508483886719), ('compliance', 0.6385865807533264), ('surge', 0.6353946924209595), ('fluoro', 0.6329084634780884), ('spotter', 0.631666362285614)]\n",
      "Most similar words to 'insight': [('insights', 0.8648535013198853), ('insite', 0.80242919921875), ('glimpse', 0.7807576060295105), ('incite', 0.7019627690315247), ('perspective', 0.690294086933136), ('penetrating', 0.6830160021781921), ('backround', 0.6754698157310486), ('wisdom', 0.6625802516937256), ('insider', 0.6623255014419556), ('godly', 0.6569725275039673)]\n",
      "Most similar words to 'super': [('tbh', 0.6913177371025085), ('eater', 0.6857782006263733), ('duper', 0.6849342584609985), ('extremely', 0.6792347431182861), ('very', 0.6738414764404297), ('incredibly', 0.6543221473693848), ('soo', 0.6532828211784363), ('projector', 0.65220707654953), ('sweet', 0.6434345841407776), ('brood', 0.6394226551055908)]\n"
     ]
    }
   ],
   "source": [
    "# 选择10个目标词\n",
    "targets = [\"books\", \"photos\", \"man\", \"football\", \"son\", \"fantasy\", \"magnificent\", \"active\", \"insight\", \"super\"]\n",
    "\n",
    "# 计算每个目标词的最相似词并打印结果\n",
    "for target in targets:\n",
    "    similar_words = word_vectors.similar_by_word(target)\n",
    "    print(f\"Most similar words to '{target}': {similar_words}\")"
   ]
  },
  {
   "cell_type": "code",
   "execution_count": 4,
   "metadata": {
    "ExecuteTime": {
     "end_time": "2024-03-06T19:20:29.942425Z",
     "start_time": "2024-03-06T19:20:29.940306Z"
    }
   },
   "outputs": [],
   "source": [
    "def get_analogy(a, b, c):\n",
    "    return word_vectors.most_similar(positive=[b, c], negative=[a])[0][0]"
   ]
  },
  {
   "cell_type": "code",
   "execution_count": 5,
   "metadata": {
    "ExecuteTime": {
     "end_time": "2024-03-06T19:20:29.952544Z",
     "start_time": "2024-03-06T19:20:29.942482Z"
    }
   },
   "outputs": [
    {
     "name": "stdout",
     "output_type": "stream",
     "text": [
      "stephen\n",
      "mother\n",
      "daughter\n",
      "delightful\n",
      "concise\n",
      "night\n",
      "knightly\n",
      "dad\n"
     ]
    }
   ],
   "source": [
    "# 五个有趣的词类比\n",
    "analogy = []\n",
    "analogy.append(get_analogy('man', 'woman', 'king'))  # Queen\n",
    "analogy.append(get_analogy('man', 'woman', 'father')) # mother\n",
    "analogy.append(get_analogy('boy', 'girl', 'son')) # daughter\n",
    "analogy.append(get_analogy('bad', 'unique', 'good')) # good aspect of unique\n",
    "analogy.append(get_analogy('bad', 'detailed', 'good')) # good aspect of detailed\n",
    "analogy.append(get_analogy('sun', 'morning', 'moon'))  # night\n",
    "analogy.append(get_analogy('small', 'big', 'kitten'))  # cat\n",
    "analogy.append(get_analogy('girl', 'boy', 'girlfriend'))  # boyfriend\n",
    "\n",
    "for analogy1 in analogy:\n",
    "    print(analogy1)"
   ]
  },
  {
   "cell_type": "code",
   "execution_count": 6,
   "outputs": [
    {
     "name": "stdout",
     "output_type": "stream",
     "text": [
      "tuscany\n",
      "siamese\n",
      "hitch\n",
      "threesome\n",
      "artist\n",
      "teaching\n",
      "diver\n"
     ]
    }
   ],
   "source": [
    "analogy = []\n",
    "analogy.append(get_analogy('hot', 'cold', 'summer'))  # Winter\n",
    "analogy.append(get_analogy('seed', 'tree', 'egg'))  # Chicken or Bird, depending on the analogy intended\n",
    "analogy.append(get_analogy('water', 'ice', 'steam'))  # Liquid, considering water's states of matter\n",
    "analogy.append(get_analogy('cat', 'kitten', 'dog'))  # Puppy\n",
    "analogy.append(get_analogy('write', 'writer', 'paint'))  # Painter\n",
    "analogy.append(get_analogy('speak', 'speaker', 'teach'))  # Teacher\n",
    "analogy.append(get_analogy('run', 'runner', 'swim'))  # Swimmer\n",
    "for analogy1 in analogy:\n",
    "    print(analogy1)"
   ],
   "metadata": {
    "collapsed": false,
    "ExecuteTime": {
     "end_time": "2024-03-06T19:20:29.961415Z",
     "start_time": "2024-03-06T19:20:29.952544Z"
    }
   }
  },
  {
   "cell_type": "code",
   "outputs": [],
   "source": [],
   "metadata": {
    "collapsed": false,
    "ExecuteTime": {
     "end_time": "2024-03-06T19:20:29.963928Z",
     "start_time": "2024-03-06T19:20:29.961415Z"
    }
   },
   "execution_count": 6
  }
 ],
 "metadata": {
  "kernelspec": {
   "display_name": "Python 3 (ipykernel)",
   "language": "python",
   "name": "python3"
  },
  "language_info": {
   "codemirror_mode": {
    "name": "ipython",
    "version": 3
   },
   "file_extension": ".py",
   "mimetype": "text/x-python",
   "name": "python",
   "nbconvert_exporter": "python",
   "pygments_lexer": "ipython3",
   "version": "3.9.12"
  }
 },
 "nbformat": 4,
 "nbformat_minor": 2
}
