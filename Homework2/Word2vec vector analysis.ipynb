{
 "cells": [
  {
   "cell_type": "markdown",
   "metadata": {},
   "source": [
    "# Homework 2: Word2vec Vector Analysis\n",
    "\n",
    "*Important Note:* Start this notebook only after you've gotten your word2vec model up and running!\n",
    "\n",
    "Many NLP packages support working with word embeddings. In this notebook you can work through the various problems assigned in Task 3. We've provided the basic functionality for loading word vectors using [Gensim](https://radimrehurek.com/gensim/models/keyedvectors.html), a good library for learning and using word vectors, and for working with the vectors. \n",
    "\n",
    "One of the fun parts of word vectors is getting a sense of what they learned. Feel free to explore the vectors here! "
   ]
  },
  {
   "cell_type": "code",
   "execution_count": 1,
   "metadata": {
    "ExecuteTime": {
     "end_time": "2024-03-04T04:36:35.795465Z",
     "start_time": "2024-03-04T04:36:35.183873Z"
    }
   },
   "outputs": [],
   "source": [
    "from gensim.models import KeyedVectors\n",
    "from gensim.test.utils import datapath"
   ]
  },
  {
   "cell_type": "code",
   "execution_count": 2,
   "metadata": {
    "ExecuteTime": {
     "end_time": "2024-03-04T04:36:36.727530Z",
     "start_time": "2024-03-04T04:36:35.796463Z"
    }
   },
   "outputs": [],
   "source": [
    "word_vectors = KeyedVectors.load_word2vec_format('./models/1st_model.kv', binary=False)"
   ]
  },
  {
   "cell_type": "code",
   "execution_count": 3,
   "metadata": {
    "ExecuteTime": {
     "end_time": "2024-03-04T04:36:36.743349Z",
     "start_time": "2024-03-04T04:36:36.727583Z"
    }
   },
   "outputs": [
    {
     "name": "stdout",
     "output_type": "stream",
     "text": [
      "Most similar words to 'books': [('novels', 0.819827139377594), ('trilogies', 0.8113601803779602), ('novellas', 0.8023399710655212), ('anthologies', 0.7961288094520569), ('outlander', 0.7720595002174377), ('trigiani', 0.7716647386550903), ('volumes', 0.755329966545105), ('eloisa', 0.7550047039985657), ('joshilyn', 0.7548050880432129), ('johnstone', 0.7527266144752502)]\n",
      "Most similar words to 'photos': [('pictures', 0.9157484173774719), ('photographs', 0.9040984511375427), ('pics', 0.8967078328132629), ('drawings', 0.8874945044517517), ('designs', 0.8491202592849731), ('graphics', 0.8401683568954468), ('reproductions', 0.8314470648765564), ('charts', 0.8255462646484375), ('illustrations', 0.824859619140625), ('plates', 0.8225506544113159)]\n",
      "Most similar words to 'man': [('woman', 0.9172970652580261), ('lady', 0.7962533235549927), ('sociopath', 0.7843738198280334), ('girl', 0.7786564230918884), ('widow', 0.7756919264793396), ('whore', 0.774086058139801), ('handsome', 0.7610370516777039), ('hes', 0.7555896639823914), ('mother', 0.7469603419303894), ('athlete', 0.746619462966919)]\n",
      "Most similar words to 'football': [('bachelor', 0.8413236737251282), ('soccer', 0.8174781799316406), ('nba', 0.8113933801651001), ('basketball', 0.8022118210792542), ('hockey', 0.7991634011268616), ('evangelist', 0.7770859003067017), ('firefighter', 0.7684645056724548), ('senior', 0.7667787671089172), ('fledgling', 0.7591599822044373), ('leopard', 0.7581943869590759)]\n",
      "Most similar words to 'son': [('daughter', 0.9096133708953857), ('granddaughter', 0.8446231484413147), ('grandson', 0.841214656829834), ('niece', 0.8290421366691589), ('nephew', 0.8206250667572021), ('grandaughter', 0.8013305068016052), ('youngest', 0.789845883846283), ('wife', 0.7857651114463806), ('daughters', 0.7811951041221619), ('2yr', 0.7780805230140686)]\n",
      "Most similar words to 'fantasy': [('sci', 0.8962279558181763), ('fi', 0.8940047025680542), ('paranormal', 0.8886039853096008), ('scifi', 0.884589433670044), ('dystopian', 0.8591601252555847), ('genre', 0.8495414853096008), ('romances', 0.8484698534011841), ('zombie', 0.8400762677192688), ('fiction', 0.8374088406562805), ('romance', 0.8359337449073792)]\n",
      "Most similar words to 'magnificent': [('marvelous', 0.8358579874038696), ('breathtaking', 0.8067566156387329), ('fantastic', 0.8040899634361267), ('bravo', 0.7903535962104797), ('brilliant', 0.7848358750343323), ('stunning', 0.7840255498886108), ('terrific', 0.7760992050170898), ('amazing', 0.772489070892334), ('wonderful', 0.7584990859031677), ('talbot', 0.758010983467102)]\n",
      "Most similar words to 'active': [('contractor', 0.7994036674499512), ('developmental', 0.7899230122566223), ('hedge', 0.7834161520004272), ('initiated', 0.7735572457313538), ('armored', 0.769718587398529), ('childcare', 0.7675782442092896), ('muscle', 0.767232358455658), ('gym', 0.7668652534484863), ('resistance', 0.7629877924919128), ('defenses', 0.7621045112609863)]\n",
      "Most similar words to 'insight': [('insights', 0.849112868309021), ('insite', 0.8461000919342041), ('glimpse', 0.8234603404998779), ('incite', 0.7991507649421692), ('divinity', 0.7691885828971863), ('wisdom', 0.7517168521881104), ('outlook', 0.745276927947998), ('understanding', 0.7441744804382324), ('encouragement', 0.7440498471260071), ('appreciation', 0.7350476384162903)]\n",
      "Most similar words to 'super': [('darn', 0.7522258758544922), ('duper', 0.7063275575637817), ('pretty', 0.6917620301246643), ('kind', 0.6812194585800171), ('flirty', 0.6804931163787842), ('cheery', 0.6767767071723938), ('kai', 0.6750037670135498), ('sweet', 0.6637566089630127), ('extremely', 0.6620774865150452), ('incredibly', 0.6609432101249695)]\n"
     ]
    }
   ],
   "source": [
    "# 选择10个目标词\n",
    "targets = [\"books\", \"photos\", \"man\", \"football\", \"son\", \"fantasy\", \"magnificent\", \"active\", \"insight\", \"super\"]\n",
    "\n",
    "# 计算每个目标词的最相似词并打印结果\n",
    "for target in targets:\n",
    "    similar_words = word_vectors.similar_by_word(target)\n",
    "    print(f\"Most similar words to '{target}': {similar_words}\")"
   ]
  },
  {
   "cell_type": "code",
   "execution_count": 4,
   "metadata": {
    "ExecuteTime": {
     "end_time": "2024-03-04T04:36:36.746242Z",
     "start_time": "2024-03-04T04:36:36.743349Z"
    }
   },
   "outputs": [],
   "source": [
    "def get_analogy(a, b, c):\n",
    "    return word_vectors.most_similar(positive=[b, c], negative=[a])[0][0]"
   ]
  },
  {
   "cell_type": "code",
   "execution_count": 7,
   "metadata": {
    "ExecuteTime": {
     "end_time": "2024-03-04T04:39:01.404022Z",
     "start_time": "2024-03-04T04:39:01.399695Z"
    }
   },
   "outputs": [
    {
     "name": "stdout",
     "output_type": "stream",
     "text": [
      "Analogy 1: man - woman + king = feinstein\n",
      "Analogy 2: summer - hot + cold = blooded\n"
     ]
    }
   ],
   "source": [
    "# 五个有趣的词类比\n",
    "analogy_1 = get_analogy('man', 'woman', 'king')  # Queen\n",
    "analogy_2 = get_analogy('summer', 'hot', 'cold') # winter\n",
    "\n",
    "# 打印结果\n",
    "print(\"Analogy 1: {} - {} + {} = {}\".format('man', 'woman', 'king', analogy_1))\n",
    "print(\"Analogy 2: {} - {} + {} = {}\".format('summer', 'hot', 'cold', analogy_2))"
   ]
  },
  {
   "cell_type": "code",
   "execution_count": 5,
   "outputs": [],
   "source": [],
   "metadata": {
    "collapsed": false,
    "ExecuteTime": {
     "end_time": "2024-03-04T04:36:36.752920Z",
     "start_time": "2024-03-04T04:36:36.750746Z"
    }
   }
  }
 ],
 "metadata": {
  "kernelspec": {
   "display_name": "Python 3 (ipykernel)",
   "language": "python",
   "name": "python3"
  },
  "language_info": {
   "codemirror_mode": {
    "name": "ipython",
    "version": 3
   },
   "file_extension": ".py",
   "mimetype": "text/x-python",
   "name": "python",
   "nbconvert_exporter": "python",
   "pygments_lexer": "ipython3",
   "version": "3.9.12"
  }
 },
 "nbformat": 4,
 "nbformat_minor": 2
}
