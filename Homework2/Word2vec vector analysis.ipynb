{
 "cells": [
  {
   "cell_type": "markdown",
   "metadata": {},
   "source": [
    "# Homework 2: Word2vec Vector Analysis\n",
    "\n",
    "*Important Note:* Start this notebook only after you've gotten your word2vec model up and running!\n",
    "\n",
    "Many NLP packages support working with word embeddings. In this notebook you can work through the various problems assigned in Task 3. We've provided the basic functionality for loading word vectors using [Gensim](https://radimrehurek.com/gensim/models/keyedvectors.html), a good library for learning and using word vectors, and for working with the vectors. \n",
    "\n",
    "One of the fun parts of word vectors is getting a sense of what they learned. Feel free to explore the vectors here! "
   ]
  },
  {
   "cell_type": "code",
   "execution_count": 1,
   "metadata": {
    "ExecuteTime": {
     "end_time": "2024-03-02T22:01:34.405880200Z",
     "start_time": "2024-03-02T22:01:33.444726800Z"
    }
   },
   "outputs": [],
   "source": [
    "from gensim.models import KeyedVectors\n",
    "from gensim.test.utils import datapath"
   ]
  },
  {
   "cell_type": "code",
   "execution_count": 2,
   "metadata": {
    "ExecuteTime": {
     "end_time": "2024-03-02T22:01:35.689727800Z",
     "start_time": "2024-03-02T22:01:34.409883100Z"
    }
   },
   "outputs": [],
   "source": [
    "word_vectors = KeyedVectors.load_word2vec_format('./models/1st_model.kv', binary=False)"
   ]
  },
  {
   "cell_type": "code",
   "execution_count": 3,
   "metadata": {
    "ExecuteTime": {
     "end_time": "2024-03-02T22:01:35.723825800Z",
     "start_time": "2024-03-02T22:01:35.692729400Z"
    }
   },
   "outputs": [
    {
     "name": "stdout",
     "output_type": "stream",
     "text": [
      "Most similar words to 'books': [('penance', 0.5245738625526428), ('allowed', 0.5236886739730835), ('spaghetti', 0.5066086053848267), ('sparking', 0.4953039586544037), ('feats', 0.4908316731452942), ('investigator', 0.48777228593826294), ('gor', 0.48279622197151184), ('wwii', 0.4788375496864319), ('ruthless', 0.4736500084400177), ('jeeves', 0.4710521697998047)]\n",
      "Most similar words to 'photos': [('haughty', 0.5106274485588074), ('regurgitated', 0.5106174349784851), ('emerald', 0.49690866470336914), ('mignola', 0.48508185148239136), ('piper', 0.4827582538127899), ('berets', 0.4820261001586914), ('chai', 0.47709307074546814), ('comrade', 0.4749448299407959), ('lifts', 0.47351858019828796), ('corporation', 0.46755605936050415)]\n",
      "Most similar words to 'man': [('driest', 0.5407857894897461), ('assign', 0.5165888667106628), ('hesitate', 0.49782243371009827), ('proved', 0.4832064211368561), ('humbling', 0.47855308651924133), ('wayyy', 0.47098734974861145), ('ode', 0.47025805711746216), ('moreso', 0.4700719118118286), ('autobiographical', 0.46686670184135437), ('joshilyn', 0.46101030707359314)]\n",
      "Most similar words to 'football': [('cp', 0.5684991478919983), ('exhaustion', 0.548394501209259), ('verbalize', 0.5407975912094116), ('sakes', 0.5088740587234497), ('boyd', 0.5012074112892151), ('mate', 0.4929255247116089), ('fellows', 0.4922630190849304), ('bossy', 0.48451924324035645), ('thrilling', 0.4787450432777405), ('dependency', 0.47294169664382935)]\n",
      "Most similar words to 'son': [('sow', 0.5618552565574646), ('12', 0.5231695771217346), ('vibrant', 0.5086451172828674), ('itt', 0.507667601108551), ('wiring', 0.4943636953830719), ('seattle', 0.48801931738853455), ('quigley', 0.48764941096305847), ('reluctance', 0.48705440759658813), ('northanger', 0.4760955572128296), ('hippy', 0.47282254695892334)]\n",
      "Most similar words to 'fantasy': [('hopefully', 0.562864363193512), ('commencement', 0.5564499497413635), ('laviolette', 0.5472652316093445), ('mh', 0.5315645933151245), ('blacks', 0.5212615132331848), ('secretly', 0.4835628867149353), ('todo', 0.4794078767299652), ('figure', 0.47685661911964417), ('payed', 0.46935978531837463), ('overstuffed', 0.4666447639465332)]\n",
      "Most similar words to 'magnificent': [('spidey', 0.5368573665618896), ('192', 0.5090293884277344), ('curry', 0.503620445728302), ('comprar', 0.49999508261680603), ('imparted', 0.47613415122032166), ('update', 0.47235387563705444), ('rufus', 0.4682530462741852), ('generated', 0.46712934970855713), ('projector', 0.4615953862667084), ('economy', 0.4611145853996277)]\n",
      "Most similar words to 'active': [('smoker', 0.5836490988731384), ('persons', 0.5680568218231201), ('pug', 0.5464387536048889), ('monuments', 0.5266551971435547), ('redneck', 0.4888981282711029), ('drills', 0.48862969875335693), ('hypocritical', 0.47580212354660034), ('videogames', 0.4730941653251648), ('groupings', 0.47250837087631226), ('traveller', 0.4689822494983673)]\n",
      "Most similar words to 'insight': [('intention', 0.5896549224853516), ('mutiny', 0.5659862756729126), ('cesar', 0.5089201331138611), ('foundational', 0.48989561200141907), ('trimming', 0.4764513075351715), ('technical', 0.4757838547229767), ('typically', 0.463076651096344), ('wickedly', 0.4592554569244385), ('standpoint', 0.4582418203353882), ('commuter', 0.4568203091621399)]\n",
      "Most similar words to 'super': [('reverte', 0.5249693989753723), ('distaste', 0.5207307934761047), ('forewarned', 0.5162186026573181), ('managers', 0.4881928265094757), ('batches', 0.4873957633972168), ('since', 0.47797760367393494), ('skewer', 0.4714226722717285), ('identifies', 0.457241952419281), ('posturing', 0.4534197747707367), ('kino', 0.45262670516967773)]\n"
     ]
    }
   ],
   "source": [
    "# 选择10个目标词\n",
    "targets = [\"books\", \"photos\", \"man\", \"football\", \"son\", \"fantasy\", \"magnificent\", \"active\", \"insight\", \"super\"]\n",
    "\n",
    "# 计算每个目标词的最相似词并打印结果\n",
    "for target in targets:\n",
    "    similar_words = word_vectors.similar_by_word(target)\n",
    "    print(f\"Most similar words to '{target}': {similar_words}\")"
   ]
  },
  {
   "cell_type": "code",
   "execution_count": 4,
   "metadata": {
    "ExecuteTime": {
     "end_time": "2024-03-02T22:01:35.723825800Z",
     "start_time": "2024-03-02T22:01:35.710920700Z"
    }
   },
   "outputs": [],
   "source": [
    "def get_analogy(a, b, c):\n",
    "    return word_vectors.most_similar(positive=[b, c], negative=[a])[0][0]"
   ]
  },
  {
   "cell_type": "code",
   "execution_count": 5,
   "metadata": {
    "ExecuteTime": {
     "end_time": "2024-03-02T22:01:35.723825800Z",
     "start_time": "2024-03-02T22:01:35.716504800Z"
    }
   },
   "outputs": [
    {
     "name": "stdout",
     "output_type": "stream",
     "text": [
      "Analogy 1: man - woman + king = determined\n"
     ]
    }
   ],
   "source": [
    "# 五个有趣的词类比\n",
    "analogy_1 = get_analogy('man', 'woman', 'king')  # Queen\n",
    "# analogy_2 = get_analogy('school', 'university', 'teacher') # winter\n",
    "\n",
    "# 打印结果\n",
    "print(\"Analogy 1: {} - {} + {} = {}\".format('man', 'woman', 'king', analogy_1))\n",
    "# print(\"Analogy 2: {} - {} + {} = {}\".format('summer', 'hot', 'cold', analogy_2))"
   ]
  },
  {
   "cell_type": "code",
   "execution_count": 5,
   "outputs": [],
   "source": [],
   "metadata": {
    "collapsed": false,
    "ExecuteTime": {
     "end_time": "2024-03-02T22:01:35.767765300Z",
     "start_time": "2024-03-02T22:01:35.722307200Z"
    }
   }
  }
 ],
 "metadata": {
  "kernelspec": {
   "display_name": "Python 3 (ipykernel)",
   "language": "python",
   "name": "python3"
  },
  "language_info": {
   "codemirror_mode": {
    "name": "ipython",
    "version": 3
   },
   "file_extension": ".py",
   "mimetype": "text/x-python",
   "name": "python",
   "nbconvert_exporter": "python",
   "pygments_lexer": "ipython3",
   "version": "3.9.12"
  }
 },
 "nbformat": 4,
 "nbformat_minor": 2
}
